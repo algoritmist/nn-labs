{
  "nbformat": 4,
  "nbformat_minor": 0,
  "metadata": {
    "colab": {
      "provenance": [],
      "gpuType": "T4"
    },
    "kernelspec": {
      "name": "python3",
      "display_name": "Python 3"
    },
    "language_info": {
      "name": "python"
    },
    "accelerator": "GPU"
  },
  "cells": [
    {
      "cell_type": "code",
      "source": [
        "from google.colab import drive\n",
        "drive.mount('/content/drive')\n",
        "path_kaggle = \"/content/drive/MyDrive/kaggle\"\n",
        "path_xray = path_kaggle + \"/x-ray-dection\"\n",
        "\n",
        "path_train = path_xray + \"/training\"\n",
        "path_train_fractured = path_train + \"/fractured\"\n",
        "path_train_not_fractured = path_train + \"/not_fractured\"\n",
        "\n",
        "path_test = path_xray + \"/testing\"\n",
        "path_test_fractured = path_test + \"/fractured\"\n",
        "path_test_not_fractured = path_test + \"/not_fractured\"\n",
        "\n",
        "image_location_paths = [path_train_fractured, path_train_not_fractured,\n",
        "                        path_test_fractured, path_test_not_fractured]\n",
        "image_train_location_paths = [path_train_fractured, path_train_not_fractured]\n",
        "image_test_location_paths = [path_test_fractured, path_test_not_fractured]"
      ],
      "metadata": {
        "id": "uOtFFryk85vq",
        "colab": {
          "base_uri": "https://localhost:8080/"
        },
        "outputId": "49002bd9-4b05-495e-83db-4de1c371ca6d"
      },
      "execution_count": 1,
      "outputs": [
        {
          "output_type": "stream",
          "name": "stdout",
          "text": [
            "Mounted at /content/drive\n"
          ]
        }
      ]
    },
    {
      "cell_type": "markdown",
      "source": [
        "Посмотрим репрезентативность обучающей выборки"
      ],
      "metadata": {
        "id": "4TplAAkZy-n2"
      }
    },
    {
      "cell_type": "code",
      "source": [
        "import os\n",
        "def group_images(image_paths):\n",
        "\n",
        "  grouped_imgs = dict()\n",
        "\n",
        "  for path in image_paths:\n",
        "    key = \"/\".join(path.split(\"/\")[:-1]) + \"/\" + path.split(\"/\")[-1].split(\".\")[0].split(\"-\")[0]\n",
        "    if key not in grouped_imgs:\n",
        "      grouped_imgs[key] = []\n",
        "    grouped_imgs[key].append(path)\n",
        "\n",
        "  return grouped_imgs\n",
        "\n",
        "images_paths = []\n",
        "\n",
        "for path in image_train_location_paths:\n",
        "  for dirname, _, filenames in os.walk(path):\n",
        "    for filename in filenames:\n",
        "      full_path = os.path.join(dirname, filename)\n",
        "      images_paths.append(full_path)\n",
        "\n",
        "images = group_images(images_paths)\n",
        "print(len(images))\n",
        "for (key, value) in list(images.items())[:10]:\n",
        "  print(f\"Image {key}: samples {len(value)}\")"
      ],
      "metadata": {
        "id": "a3qyOSgSy9zR",
        "colab": {
          "base_uri": "https://localhost:8080/"
        },
        "outputId": "2958a13a-2e0a-4a0f-a71b-4fbcf7871e00"
      },
      "execution_count": 2,
      "outputs": [
        {
          "output_type": "stream",
          "name": "stdout",
          "text": [
            "178\n",
            "Image /content/drive/MyDrive/kaggle/x-ray-dection/training/fractured/74: samples 40\n",
            "Image /content/drive/MyDrive/kaggle/x-ray-dection/training/fractured/72: samples 40\n",
            "Image /content/drive/MyDrive/kaggle/x-ray-dection/training/fractured/73: samples 40\n",
            "Image /content/drive/MyDrive/kaggle/x-ray-dection/training/fractured/75: samples 40\n",
            "Image /content/drive/MyDrive/kaggle/x-ray-dection/training/fractured/71: samples 40\n",
            "Image /content/drive/MyDrive/kaggle/x-ray-dection/training/fractured/80: samples 40\n",
            "Image /content/drive/MyDrive/kaggle/x-ray-dection/training/fractured/79: samples 40\n",
            "Image /content/drive/MyDrive/kaggle/x-ray-dection/training/fractured/77: samples 40\n",
            "Image /content/drive/MyDrive/kaggle/x-ray-dection/training/fractured/76: samples 40\n",
            "Image /content/drive/MyDrive/kaggle/x-ray-dection/training/fractured/78: samples 40\n"
          ]
        }
      ]
    },
    {
      "cell_type": "code",
      "source": [
        "import matplotlib.pyplot as plt\n",
        "%matplotlib inline\n",
        "\n",
        "img_samples_dict = dict()\n",
        "for key, value in images.items():\n",
        "  if len(value) not in img_samples_dict:\n",
        "    img_samples_dict[len(value)] = []\n",
        "  img_samples_dict[len(value)].append(key)\n",
        "\n",
        "fig, ax = plt.subplots()\n",
        "ax.set_xlabel(\"Number of images\")\n",
        "ax.set_ylabel(\"Number of groups\")\n",
        "\n",
        "ax.bar(img_samples_dict.keys(),\n",
        "       list(map(lambda x: len(x), img_samples_dict.values())))\n",
        "plt.show()"
      ],
      "metadata": {
        "id": "p1XfLrb_yYQR",
        "colab": {
          "base_uri": "https://localhost:8080/",
          "height": 449
        },
        "outputId": "056bc07d-43f5-410c-8560-b8ac57ee698a"
      },
      "execution_count": 3,
      "outputs": [
        {
          "output_type": "display_data",
          "data": {
            "text/plain": [
              "<Figure size 640x480 with 1 Axes>"
            ],
            "image/png": "[encoded data removed]"
          },
          "metadata": {}
        }
      ]
    },
    {
      "cell_type": "code",
      "source": [
        "import numpy as np\n",
        "train_mean = np.mean(list(img_samples_dict.keys()))\n",
        "train_std = np.std(list(img_samples_dict.keys()))\n",
        "train_v = train_std / train_mean\n",
        "\n",
        "print(f\"Mean: {train_mean}\")\n",
        "print(f\"Std: {train_std}\")\n",
        "print(f\"Cov: {train_v}\")"
      ],
      "metadata": {
        "id": "FI-Hfbi80-j1",
        "colab": {
          "base_uri": "https://localhost:8080/"
        },
        "outputId": "40d80440-7365-4ba1-ce36-75b038d28f4f"
      },
      "execution_count": 4,
      "outputs": [
        {
          "output_type": "stream",
          "name": "stdout",
          "text": [
            "Mean: 45.0\n",
            "Std: 16.30950643030009\n",
            "Cov: 0.3624334762288909\n"
          ]
        }
      ]
    },
    {
      "cell_type": "markdown",
      "source": [
        "Посмотрим, можем ли мы лучше разделить train & test вручную"
      ],
      "metadata": {
        "id": "oiNZr0s2yOHJ"
      }
    },
    {
      "cell_type": "code",
      "source": [
        "from itertools import groupby\n",
        "import os\n",
        "\n",
        "def group_images(image_paths):\n",
        "\n",
        "  grouped_imgs = dict()\n",
        "\n",
        "  for path in image_paths:\n",
        "    key = \"/\".join(path.split(\"/\")[:-1]) + \"/\" + path.split(\"/\")[-1].split(\".\")[0].split(\"-\")[0]\n",
        "    if key not in grouped_imgs:\n",
        "      grouped_imgs[key] = []\n",
        "    grouped_imgs[key].append(path)\n",
        "\n",
        "  return grouped_imgs\n",
        "\n",
        "images_paths = []\n",
        "\n",
        "for path in image_location_paths:\n",
        "  for dirname, _, filenames in os.walk(path):\n",
        "    for filename in filenames:\n",
        "      full_path = os.path.join(dirname, filename)\n",
        "      images_paths.append(full_path)\n",
        "\n",
        "images = group_images(images_paths)\n",
        "print(len(images))\n",
        "for key, value in list(images.items())[:10]:\n",
        "  print(f\"Image {key}: samples {len(value)}\")"
      ],
      "metadata": {
        "id": "Wu7ImLFac6cT",
        "colab": {
          "base_uri": "https://localhost:8080/"
        },
        "outputId": "4bb31e14-b023-4838-cda4-f9f618ba8e2e"
      },
      "execution_count": 5,
      "outputs": [
        {
          "output_type": "stream",
          "name": "stdout",
          "text": [
            "191\n",
            "Image /content/drive/MyDrive/kaggle/x-ray-dection/training/fractured/74: samples 40\n",
            "Image /content/drive/MyDrive/kaggle/x-ray-dection/training/fractured/72: samples 40\n",
            "Image /content/drive/MyDrive/kaggle/x-ray-dection/training/fractured/73: samples 40\n",
            "Image /content/drive/MyDrive/kaggle/x-ray-dection/training/fractured/75: samples 40\n",
            "Image /content/drive/MyDrive/kaggle/x-ray-dection/training/fractured/71: samples 40\n",
            "Image /content/drive/MyDrive/kaggle/x-ray-dection/training/fractured/80: samples 40\n",
            "Image /content/drive/MyDrive/kaggle/x-ray-dection/training/fractured/79: samples 40\n",
            "Image /content/drive/MyDrive/kaggle/x-ray-dection/training/fractured/77: samples 40\n",
            "Image /content/drive/MyDrive/kaggle/x-ray-dection/training/fractured/76: samples 40\n",
            "Image /content/drive/MyDrive/kaggle/x-ray-dection/training/fractured/78: samples 40\n"
          ]
        }
      ]
    },
    {
      "cell_type": "code",
      "source": [
        "import matplotlib.pyplot as plt\n",
        "%matplotlib inline\n",
        "\n",
        "img_samples_dict = dict()\n",
        "for key, value in images.items():\n",
        "  if len(value) not in img_samples_dict:\n",
        "    img_samples_dict[len(value)] = []\n",
        "  img_samples_dict[len(value)].append(key)\n",
        "\n",
        "fig, ax = plt.subplots()\n",
        "ax.set_xlabel(\"Number of images\")\n",
        "ax.set_ylabel(\"Number of groups\")\n",
        "\n",
        "for key, value in img_samples_dict.items():\n",
        "  print(f\"Key: {key}, value: {len(value)}\")\n",
        "\n",
        "ax.bar(img_samples_dict.keys(),\n",
        "       list(map(lambda x: len(x), img_samples_dict.values())))\n",
        "plt.show()"
      ],
      "metadata": {
        "id": "qailp8vEpiB-",
        "colab": {
          "base_uri": "https://localhost:8080/",
          "height": 518
        },
        "outputId": "f588c5d6-b086-4bef-f30d-8b2b04b5f063"
      },
      "execution_count": 6,
      "outputs": [
        {
          "output_type": "stream",
          "name": "stdout",
          "text": [
            "Key: 40, value: 121\n",
            "Key: 67, value: 68\n",
            "Key: 28, value: 1\n",
            "Key: 39, value: 1\n"
          ]
        },
        {
          "output_type": "display_data",
          "data": {
            "text/plain": [
              "<Figure size 640x480 with 1 Axes>"
            ],
            "image/png": "[encoded data removed]"
          },
          "metadata": {}
        }
      ]
    },
    {
      "cell_type": "code",
      "source": [
        "train_mean = np.mean(list(img_samples_dict.keys()))\n",
        "train_std = np.std(list(img_samples_dict.keys()))\n",
        "train_v = train_std / train_mean\n",
        "\n",
        "print(f\"Mean: {train_mean}\")\n",
        "print(f\"Std: {train_std}\")\n",
        "print(f\"Cov: {train_v}\")"
      ],
      "metadata": {
        "id": "FKfAqHm9zzNO",
        "colab": {
          "base_uri": "https://localhost:8080/"
        },
        "outputId": "26f66422-6bae-43c5-9ff4-e5177c6c1ed8"
      },
      "execution_count": 7,
      "outputs": [
        {
          "output_type": "stream",
          "name": "stdout",
          "text": [
            "Mean: 43.5\n",
            "Std: 14.361406616345072\n",
            "Cov: 0.3301472785366683\n"
          ]
        }
      ]
    },
    {
      "cell_type": "markdown",
      "source": [
        "Видим, что результат сильно не улучшился. В датасете присутсвуют аномалии, 28 и 39 изображений для одного пациента. Поскольку 39 близко к матожиданию, оставим эти изображения, а 28 изображений перенесем в валидацию, т.к их скорее всего будут нерепрезентативными для обучения на ранних стадиях. Набор на 67 и 68 изображений обрежем до 40"
      ],
      "metadata": {
        "id": "xD_lT1M93xQU"
      }
    },
    {
      "cell_type": "code",
      "source": [
        "images_filtered = []\n",
        "for k, v in images.items():\n",
        "  if len(v) <= 28:\n",
        "    continue\n",
        "  new_v = v[0:40] if len(v) > 40 else v\n",
        "  new_v = v\n",
        "  images_filtered.append(new_v)\n",
        "images_filtered = [item for imgs in images_filtered for item in imgs]"
      ],
      "metadata": {
        "id": "sAVoC_O6RUGR"
      },
      "execution_count": 8,
      "outputs": []
    },
    {
      "cell_type": "markdown",
      "source": [
        "Разобъем выборку на train, val, test"
      ],
      "metadata": {
        "id": "Ef0_2XxboUNP"
      }
    },
    {
      "cell_type": "markdown",
      "source": [
        "В результате исследования были выявлены потенциальные риски:\n",
        "1. Некачественные данные: малое или большое количество снимков -> смотрим на распределение и отсеиваем выбросы\n",
        "2. Риск переобучения -> создаем валидационную выборку\n",
        "3. Неправильная пометка данных (в train и test номера пациентов совпадают) -> вводим дополнительную метку для изначально предоставленного набора данных\n",
        "Вывод:\n",
        "В ходе работы я описал и устранил возможные риски при использовании данных с помощью анализа исходной выборки, подготовил данные и сделал разделение на тренировочную, валидационную и тестовую выборки"
      ],
      "metadata": {
        "id": "XVXD8ouDChGt"
      }
    },
    {
      "cell_type": "markdown",
      "source": [
        "## Часть 2. Обучение модели\n",
        "\n",
        "После 1-го обучения модели я получил точность порядка 50% на тестовых данных, что не очень меня впечатлило. Я решил еще раз взглянуть на изображения и понял, что почти все из них повернуты на ~20 градусов и фильтры нейронки просто не обучаются на \"пустых областях\". Дополнительно поворот на 90 градусов позволяет обрабатывать случаи симметричности (изображения повернуты в разные стороны в зависимости от того левая конечность или правая), как вариант можно было даже сгенерировать симметричные изображения, но колаб очень долго всё грузит  "
      ],
      "metadata": {
        "id": "EEa9u9pz4mz0"
      }
    },
    {
      "cell_type": "code",
      "source": [
        "from sklearn.model_selection import train_test_split\n",
        "import shutil\n",
        "from PIL import Image\n",
        "\n",
        "val_size = 0.2\n",
        "test_size = 0.2\n",
        "random_state = 42\n",
        "\n",
        "train_images, val_images = train_test_split(images_filtered, test_size=val_size, random_state=random_state)\n",
        "train_images, test_images = train_test_split(train_images, test_size=test_size, random_state=random_state)"
      ],
      "metadata": {
        "id": "3RCkFomWoZcV"
      },
      "execution_count": 9,
      "outputs": []
    },
    {
      "cell_type": "code",
      "source": [],
      "metadata": {
        "id": "em28EOzxSkdw"
      },
      "execution_count": 9,
      "outputs": []
    },
    {
      "cell_type": "markdown",
      "source": [
        "После разделения на train, val, test выборки также сожмем изображения до 224*224 (изображения такого вида будет принимать на вход наша нейросеть)"
      ],
      "metadata": {
        "id": "YJ5IIkaD6r4L"
      }
    },
    {
      "cell_type": "code",
      "source": [
        "X_train = train_images\n",
        "y_train = list(map(lambda path: 0 if \"not_fractured\" in path else 1, X_train))\n",
        "\n",
        "X_val = train_images\n",
        "y_val = list(map(lambda path: 0 if \"not_fractured\" in path else 1, X_val))\n",
        "\n",
        "X_test = test_images\n",
        "y_test = list(map(lambda path: 0 if \"not_fractured\" in path else 1, X_test))"
      ],
      "metadata": {
        "id": "D6wMLibl4vFZ"
      },
      "execution_count": 10,
      "outputs": []
    },
    {
      "cell_type": "code",
      "source": [
        "import torch\n",
        "torch.cuda.is_available()"
      ],
      "metadata": {
        "id": "mvLpcqHPXXqQ",
        "colab": {
          "base_uri": "https://localhost:8080/"
        },
        "outputId": "7f60209f-10b9-4cf8-95f4-da2f3fd1585f"
      },
      "execution_count": 11,
      "outputs": [
        {
          "output_type": "execute_result",
          "data": {
            "text/plain": [
              "True"
            ]
          },
          "metadata": {},
          "execution_count": 11
        }
      ]
    },
    {
      "cell_type": "markdown",
      "source": [
        "Напишем свою нейросеть используя pytorch модули и датасеты (можно было взять готовую нейронку по типу AlexNet или LeNet, но я поздно сообразил)\n",
        "\n",
        "Архитектура нейросети:\n",
        "\n",
        "1. Image Bath \\[40, 224, 224\\] -> Conv1: kernel 3x3, stride = 1, padding = 0\n",
        "2. Conv1 -> FC1 : kernel 2x2, stride = 2, padding = 0 (уменьшаем размерность изображения в 4 раза)\n",
        "3. FC1 -> Conv2: kernel 3x3, stide = 1, padding = 0 (ищем новые паттерны)\n",
        "4. Conv2 -> FC2: kernel 3x3, stride = 2, padding = 1 (снова уменьшаем размерность)\n",
        "\n",
        "Применив сигмойду к FC2 получим бинарную классивикацию изображения на наличие переломов"
      ],
      "metadata": {
        "id": "8jeW8dRA7IHr"
      }
    },
    {
      "cell_type": "code",
      "source": [
        "import torch\n",
        "import torch.nn as nn\n",
        "import torch.optim as optim\n",
        "from torch.utils.data import DataLoader, Dataset\n",
        "import torchvision.transforms as transforms\n",
        "from torchvision import datasets\n",
        "import numpy as np\n",
        "from sklearn.model_selection import train_test_split\n",
        "import copy\n",
        "\n",
        "class BoneClassifier(nn.Module):\n",
        "    def __init__(self):\n",
        "      super(BoneClassifier, self).__init__()\n",
        "      self.conv1 = nn.Conv2d(40, 40, kernel_size=3, stride=1, padding=0)\n",
        "      self.conv2 = nn.Conv2d(40, 40, kernel_size=3, stride=1, padding=0)\n",
        "      self.fc1 = nn.Linear(55 * 55, 28)\n",
        "      self.fc2 = nn.Linear(28, 1)  # Binary classification\n",
        "\n",
        "    def forward(self, x):\n",
        "      x = nn.ReLU()(self.conv1(x))\n",
        "      #print(x.shape)\n",
        "      x = nn.MaxPool2d(kernel_size=2, stride=2, padding=0)(x)\n",
        "      #print(x.shape)\n",
        "      x = nn.ReLU()(self.conv2(x))\n",
        "      #print(x.shape)\n",
        "      x = nn.MaxPool2d(kernel_size=3, stride=2, padding=1)(x)\n",
        "      #print(x.shape)\n",
        "      x = x.view(-1, self.num_flat_features(x))  # Flatten the tensor\n",
        "      x = nn.ReLU()(self.fc1(x))\n",
        "      x = torch.sigmoid(self.fc2(x))  # Sigmoid for binary classification\n",
        "      return x.flatten().type(torch.float64)\n",
        "    def num_flat_features(self, x):\n",
        "      size = x.size()[1:]  # all dimensions except the batch dimension\n",
        "      num_features = 1\n",
        "      for s in size:\n",
        "        num_features *= s\n",
        "      return num_features\n",
        "\n",
        "# Custom Dataset\n",
        "class BoneDataset(Dataset):\n",
        "    def __init__(self, images, labels, transform=None):\n",
        "        self.images = list(map(lambda img: Image.open(img), images))\n",
        "        self.labels = labels\n",
        "        self.transform = transform\n",
        "\n",
        "    def __len__(self):\n",
        "        return len(self.images)\n",
        "\n",
        "    def __getitem__(self, idx):\n",
        "        image = self.images[idx]\n",
        "        label = self.labels[idx]\n",
        "        if self.transform:\n",
        "            image = self.transform(image)\n",
        "        return image, label\n",
        "\n",
        "from functools import lru_cache\n",
        "transform = lambda img: torch.FloatTensor(\n",
        "    @cache\n",
        "    np.array(img\n",
        "               .rotate(20)\n",
        "               .transpose(Image.FLIP_LEFT_RIGHT)\n",
        "               .convert('L')\n",
        "               .resize((224, 224))\n",
        "               )\n",
        "    ).cuda()\n",
        "\n",
        "# Create datasets\n",
        "train_dataset = BoneDataset(X_train, y_train, transform=transform)\n",
        "val_dataset = BoneDataset(X_val, y_val, transform=transform)\n",
        "\n",
        "BATCH_SIZE = 40\n",
        "\n",
        "# Create DataLoader\n",
        "train_loader = DataLoader(train_dataset, batch_size=BATCH_SIZE, shuffle=True, drop_last=True)\n",
        "val_loader = DataLoader(val_dataset, batch_size=BATCH_SIZE, shuffle=False, drop_last=True)\n"
      ],
      "metadata": {
        "id": "H7rFPTW-QH2R"
      },
      "execution_count": 13,
      "outputs": []
    },
    {
      "cell_type": "code",
      "source": [
        "# Initialize the model, loss function, and optimizer\n",
        "model = BoneClassifier().cuda()\n",
        "criterion = nn.BCELoss()  # Binary Cross-Entropy Loss\n",
        "optimizer = optim.Adam(model.parameters(), lr=0.0001)\n",
        "\n",
        "# Training loop\n",
        "num_epochs = 100\n",
        "best_acc = -1\n",
        "best_weights = copy.deepcopy(model.state_dict())\n",
        "loss_curve = []\n",
        "val_loss_curve = []\n",
        "for epoch in range(num_epochs):\n",
        "    model.train(True)\n",
        "    acc = 0.0\n",
        "    batch_loss = 0.0\n",
        "    for i, (inputs, labels) in enumerate(train_loader, 0):\n",
        "      optimizer.zero_grad()\n",
        "      outputs = model(inputs.cuda())\n",
        "      loss = criterion(outputs, labels.cuda().type(torch.float64))\n",
        "      loss.backward()\n",
        "      optimizer.step()\n",
        "      #scheduler.step()\n",
        "      acc += (outputs.round() == labels.cuda()).float().mean()\n",
        "      batch_loss += loss.item() / BATCH_SIZE\n",
        "\n",
        "    batch_loss /= (i + 1)\n",
        "    print(f\"Avg batch loss: {batch_loss}\")\n",
        "    loss_curve.append(batch_loss)\n",
        "    acc = acc / (i + 1)\n",
        "\n",
        "\n",
        "    with torch.no_grad():\n",
        "      val_loss = 0\n",
        "      model.eval()\n",
        "      val_acc = 0\n",
        "      for i, (inputs, labels) in enumerate(val_loader, 0):\n",
        "        outputs = model(inputs.cuda())\n",
        "        val_loss += criterion(outputs, labels.cuda().type(torch.float64)).item()\n",
        "        val_acc += (outputs.round() == labels.cuda()).float().mean()\n",
        "      avg_acc = val_acc / (i + 1)\n",
        "      val_loss /= (i + 1)\n",
        "      print(f\"val_loss: {val_loss}\")\n",
        "\n",
        "      if avg_acc > best_acc:\n",
        "          best_acc = avg_acc\n",
        "          best_weights = copy.deepcopy(model.state_dict())\n",
        "      print(f'Epoch [{epoch + 1}/{num_epochs}], Avg accuracy: {acc * 100:.4f}, Validation accuracy: {100 * avg_acc:.2f}%')\n",
        "      val_loss_curve.append(val_loss)\n",
        "model.load_state_dict(best_weights)"
      ],
      "metadata": {
        "colab": {
          "base_uri": "https://localhost:8080/"
        },
        "id": "2BxBXG-T266u",
        "outputId": "d8526efa-ac00-43d7-8076-94fd358f75fe"
      },
      "execution_count": 16,
      "outputs": [
        {
          "output_type": "stream",
          "name": "stdout",
          "text": [
            "Avg batch loss: 0.018437586295315583\n",
            "val_loss: 0.6998689168169535\n",
            "Epoch [1/100], Avg accuracy: 50.8000, Validation accuracy: 50.50%\n",
            "Avg batch loss: 0.017465298885059547\n",
            "val_loss: 0.6955389190489786\n",
            "Epoch [2/100], Avg accuracy: 48.4500, Validation accuracy: 49.42%\n",
            "Avg batch loss: 0.017406383026842505\n",
            "val_loss: 0.694452695636538\n",
            "Epoch [3/100], Avg accuracy: 48.8667, Validation accuracy: 50.13%\n",
            "Avg batch loss: 0.017393444025864808\n",
            "val_loss: 0.6945006505726041\n",
            "Epoch [4/100], Avg accuracy: 49.4667, Validation accuracy: 49.43%\n",
            "Avg batch loss: 0.017364123614663038\n",
            "val_loss: 0.6945644673789197\n",
            "Epoch [5/100], Avg accuracy: 50.2000, Validation accuracy: 49.53%\n",
            "Avg batch loss: 0.01736825826227851\n",
            "val_loss: 0.6947843316999609\n",
            "Epoch [6/100], Avg accuracy: 49.7833, Validation accuracy: 49.25%\n",
            "Avg batch loss: 0.017356678860399936\n",
            "val_loss: 0.69827503177712\n",
            "Epoch [7/100], Avg accuracy: 49.9167, Validation accuracy: 50.12%\n",
            "Avg batch loss: 0.01737170368587305\n",
            "val_loss: 0.6944156656958527\n",
            "Epoch [8/100], Avg accuracy: 50.1500, Validation accuracy: 49.37%\n",
            "Avg batch loss: 0.017367259553830724\n",
            "val_loss: 0.6939483108685373\n",
            "Epoch [9/100], Avg accuracy: 50.5166, Validation accuracy: 50.25%\n",
            "Avg batch loss: 0.017383488417808724\n",
            "val_loss: 0.6940520351145842\n",
            "Epoch [10/100], Avg accuracy: 48.5667, Validation accuracy: 50.07%\n",
            "Avg batch loss: 0.01739062616293323\n",
            "val_loss: 0.6944783178529991\n",
            "Epoch [11/100], Avg accuracy: 49.6333, Validation accuracy: 49.40%\n",
            "Avg batch loss: 0.017354966702246562\n",
            "val_loss: 0.693074202492437\n",
            "Epoch [12/100], Avg accuracy: 49.2667, Validation accuracy: 50.68%\n",
            "Avg batch loss: 0.01734571327581812\n",
            "val_loss: 0.6941044588377082\n",
            "Epoch [13/100], Avg accuracy: 50.6667, Validation accuracy: 50.05%\n",
            "Avg batch loss: 0.01734236645221472\n",
            "val_loss: 0.6945792361070587\n",
            "Epoch [14/100], Avg accuracy: 49.9333, Validation accuracy: 50.20%\n",
            "Avg batch loss: 0.01735293967225817\n",
            "val_loss: 0.6953163221225055\n",
            "Epoch [15/100], Avg accuracy: 50.3167, Validation accuracy: 49.53%\n",
            "Avg batch loss: 0.017334423884475786\n",
            "val_loss: 0.6940865523410226\n",
            "Epoch [16/100], Avg accuracy: 50.8000, Validation accuracy: 50.50%\n",
            "Avg batch loss: 0.017353344986585837\n",
            "val_loss: 0.6934251790023929\n",
            "Epoch [17/100], Avg accuracy: 49.8167, Validation accuracy: 50.30%\n",
            "Avg batch loss: 0.0173162260030978\n",
            "val_loss: 0.7021298000569869\n",
            "Epoch [18/100], Avg accuracy: 52.0000, Validation accuracy: 50.68%\n",
            "Avg batch loss: 0.01738596154608657\n",
            "val_loss: 0.6937363208116392\n",
            "Epoch [19/100], Avg accuracy: 49.7167, Validation accuracy: 49.47%\n",
            "Avg batch loss: 0.017328937983682506\n",
            "val_loss: 0.69389071553935\n",
            "Epoch [20/100], Avg accuracy: 50.3000, Validation accuracy: 50.25%\n",
            "Avg batch loss: 0.01734370203389419\n",
            "val_loss: 0.6963911296787592\n",
            "Epoch [21/100], Avg accuracy: 49.9833, Validation accuracy: 49.92%\n",
            "Avg batch loss: 0.017337585557941595\n",
            "val_loss: 0.6935434932363057\n",
            "Epoch [22/100], Avg accuracy: 51.0000, Validation accuracy: 50.63%\n",
            "Avg batch loss: 0.01734634715893167\n",
            "val_loss: 0.6933247020262854\n",
            "Epoch [23/100], Avg accuracy: 50.0500, Validation accuracy: 50.87%\n",
            "Avg batch loss: 0.017334791649264852\n",
            "val_loss: 0.6931052800579098\n",
            "Epoch [24/100], Avg accuracy: 52.0167, Validation accuracy: 50.62%\n",
            "Avg batch loss: 0.01731277147555713\n",
            "val_loss: 0.6917926366729872\n",
            "Epoch [25/100], Avg accuracy: 52.0833, Validation accuracy: 51.32%\n",
            "Avg batch loss: 0.017317791140265437\n",
            "val_loss: 0.6933897470042175\n",
            "Epoch [26/100], Avg accuracy: 50.6000, Validation accuracy: 50.43%\n",
            "Avg batch loss: 0.017319502661857746\n",
            "val_loss: 0.6919960345048498\n",
            "Epoch [27/100], Avg accuracy: 52.2500, Validation accuracy: 51.55%\n",
            "Avg batch loss: 0.01725693002243489\n",
            "val_loss: 0.6922730343454016\n",
            "Epoch [28/100], Avg accuracy: 52.7667, Validation accuracy: 50.93%\n",
            "Avg batch loss: 0.017285391145483033\n",
            "val_loss: 0.6900318118765052\n",
            "Epoch [29/100], Avg accuracy: 52.4333, Validation accuracy: 52.15%\n",
            "Avg batch loss: 0.01729017136340994\n",
            "val_loss: 0.6931908303052849\n",
            "Epoch [30/100], Avg accuracy: 51.5333, Validation accuracy: 50.75%\n",
            "Avg batch loss: 0.017280888091133213\n",
            "val_loss: 0.6893059736123812\n",
            "Epoch [31/100], Avg accuracy: 50.8500, Validation accuracy: 53.20%\n",
            "Avg batch loss: 0.017232905452814508\n",
            "val_loss: 0.6878549186388287\n",
            "Epoch [32/100], Avg accuracy: 52.6000, Validation accuracy: 53.42%\n",
            "Avg batch loss: 0.017214864059303833\n",
            "val_loss: 0.6872649070711312\n",
            "Epoch [33/100], Avg accuracy: 52.8833, Validation accuracy: 53.07%\n",
            "Avg batch loss: 0.017122636649071373\n",
            "val_loss: 0.6866195360428816\n",
            "Epoch [34/100], Avg accuracy: 54.9500, Validation accuracy: 53.62%\n",
            "Avg batch loss: 0.01713096977432398\n",
            "val_loss: 0.6837570430021633\n",
            "Epoch [35/100], Avg accuracy: 54.2667, Validation accuracy: 54.48%\n",
            "Avg batch loss: 0.017037610265750944\n",
            "val_loss: 0.6829483195071024\n",
            "Epoch [36/100], Avg accuracy: 54.6167, Validation accuracy: 54.93%\n",
            "Avg batch loss: 0.017010885750315317\n",
            "val_loss: 0.6883246835993532\n",
            "Epoch [37/100], Avg accuracy: 55.2667, Validation accuracy: 55.05%\n",
            "Avg batch loss: 0.01699643421119549\n",
            "val_loss: 0.6790122371336317\n",
            "Epoch [38/100], Avg accuracy: 55.0333, Validation accuracy: 55.70%\n",
            "Avg batch loss: 0.016933432371202997\n",
            "val_loss: 0.6746122396928897\n",
            "Epoch [39/100], Avg accuracy: 55.2167, Validation accuracy: 55.95%\n",
            "Avg batch loss: 0.01693066494168724\n",
            "val_loss: 0.6774266385488183\n",
            "Epoch [40/100], Avg accuracy: 55.9000, Validation accuracy: 55.70%\n",
            "Avg batch loss: 0.01680092518434495\n",
            "val_loss: 0.671244473800679\n",
            "Epoch [41/100], Avg accuracy: 56.3667, Validation accuracy: 57.55%\n",
            "Avg batch loss: 0.01677546772370837\n",
            "val_loss: 0.6692083849941096\n",
            "Epoch [42/100], Avg accuracy: 56.1833, Validation accuracy: 57.57%\n",
            "Avg batch loss: 0.016707863508321454\n",
            "val_loss: 0.6761232501310449\n",
            "Epoch [43/100], Avg accuracy: 56.2500, Validation accuracy: 56.83%\n",
            "Avg batch loss: 0.01665721829560003\n",
            "val_loss: 0.6691534680292938\n",
            "Epoch [44/100], Avg accuracy: 56.5500, Validation accuracy: 57.60%\n",
            "Avg batch loss: 0.01654281040311129\n",
            "val_loss: 0.6605987420301909\n",
            "Epoch [45/100], Avg accuracy: 57.3167, Validation accuracy: 58.08%\n",
            "Avg batch loss: 0.0164726478803121\n",
            "val_loss: 0.6542473638343305\n",
            "Epoch [46/100], Avg accuracy: 58.3833, Validation accuracy: 58.20%\n",
            "Avg batch loss: 0.016187910589690182\n",
            "val_loss: 0.6405894021136233\n",
            "Epoch [47/100], Avg accuracy: 59.7167, Validation accuracy: 59.55%\n",
            "Avg batch loss: 0.015857682835095036\n",
            "val_loss: 0.6308911282910403\n",
            "Epoch [48/100], Avg accuracy: 61.0167, Validation accuracy: 60.92%\n",
            "Avg batch loss: 0.015605843066614984\n",
            "val_loss: 0.6148144369453326\n",
            "Epoch [49/100], Avg accuracy: 61.4167, Validation accuracy: 62.67%\n",
            "Avg batch loss: 0.015081507487900454\n",
            "val_loss: 0.5954815637649815\n",
            "Epoch [50/100], Avg accuracy: 64.0167, Validation accuracy: 64.02%\n",
            "Avg batch loss: 0.014538860526555106\n",
            "val_loss: 0.5833241137778438\n",
            "Epoch [51/100], Avg accuracy: 65.4167, Validation accuracy: 65.73%\n",
            "Avg batch loss: 0.014373041594270022\n",
            "val_loss: 0.5575139459561195\n",
            "Epoch [52/100], Avg accuracy: 65.3000, Validation accuracy: 67.17%\n",
            "Avg batch loss: 0.013854517074278816\n",
            "val_loss: 0.5305447239897795\n",
            "Epoch [53/100], Avg accuracy: 67.4667, Validation accuracy: 69.13%\n",
            "Avg batch loss: 0.012964333394474097\n",
            "val_loss: 0.513814074275868\n",
            "Epoch [54/100], Avg accuracy: 68.8000, Validation accuracy: 69.97%\n",
            "Avg batch loss: 0.01249890127972493\n",
            "val_loss: 0.4827704276203164\n",
            "Epoch [55/100], Avg accuracy: 72.0500, Validation accuracy: 72.48%\n",
            "Avg batch loss: 0.011929019903765476\n",
            "val_loss: 0.46000180475592\n",
            "Epoch [56/100], Avg accuracy: 72.9167, Validation accuracy: 74.18%\n",
            "Avg batch loss: 0.011200317983555471\n",
            "val_loss: 0.44599621842944753\n",
            "Epoch [57/100], Avg accuracy: 75.3167, Validation accuracy: 75.05%\n",
            "Avg batch loss: 0.010819261643001461\n",
            "val_loss: 0.420411076974313\n",
            "Epoch [58/100], Avg accuracy: 75.9834, Validation accuracy: 76.20%\n",
            "Avg batch loss: 0.01036663833854575\n",
            "val_loss: 0.4019230496798924\n",
            "Epoch [59/100], Avg accuracy: 76.7667, Validation accuracy: 78.27%\n",
            "Avg batch loss: 0.009850081110873305\n",
            "val_loss: 0.37778245292156215\n",
            "Epoch [60/100], Avg accuracy: 78.1667, Validation accuracy: 78.32%\n",
            "Avg batch loss: 0.00944547021869896\n",
            "val_loss: 0.36115947975843443\n",
            "Epoch [61/100], Avg accuracy: 78.3000, Validation accuracy: 79.32%\n",
            "Avg batch loss: 0.009095960679816394\n",
            "val_loss: 0.35887507401470875\n",
            "Epoch [62/100], Avg accuracy: 78.9000, Validation accuracy: 79.50%\n",
            "Avg batch loss: 0.008912458159209958\n",
            "val_loss: 0.35181261328379865\n",
            "Epoch [63/100], Avg accuracy: 79.7833, Validation accuracy: 79.93%\n",
            "Avg batch loss: 0.008673794775336181\n",
            "val_loss: 0.3415445048623455\n",
            "Epoch [64/100], Avg accuracy: 79.6833, Validation accuracy: 80.27%\n",
            "Avg batch loss: 0.00836576866373874\n",
            "val_loss: 0.31736240709770225\n",
            "Epoch [65/100], Avg accuracy: 80.4500, Validation accuracy: 81.30%\n",
            "Avg batch loss: 0.008090119740089148\n",
            "val_loss: 0.3198971817932976\n",
            "Epoch [66/100], Avg accuracy: 81.2667, Validation accuracy: 81.23%\n",
            "Avg batch loss: 0.007873418877835681\n",
            "val_loss: 0.3030015389003025\n",
            "Epoch [67/100], Avg accuracy: 81.5167, Validation accuracy: 82.20%\n",
            "Avg batch loss: 0.007442894342327224\n",
            "val_loss: 0.28867503488127433\n",
            "Epoch [68/100], Avg accuracy: 82.2833, Validation accuracy: 82.90%\n",
            "Avg batch loss: 0.007446910152702569\n",
            "val_loss: 0.284854864846671\n",
            "Epoch [69/100], Avg accuracy: 82.7167, Validation accuracy: 83.25%\n",
            "Avg batch loss: 0.00705526693208305\n",
            "val_loss: 0.27458208859652455\n",
            "Epoch [70/100], Avg accuracy: 83.2500, Validation accuracy: 83.28%\n",
            "Avg batch loss: 0.007058910129924453\n",
            "val_loss: 0.28661690984588345\n",
            "Epoch [71/100], Avg accuracy: 83.0500, Validation accuracy: 83.35%\n",
            "Avg batch loss: 0.007019784937957091\n",
            "val_loss: 0.2795090583075742\n",
            "Epoch [72/100], Avg accuracy: 82.7500, Validation accuracy: 82.77%\n",
            "Avg batch loss: 0.006805823834552194\n",
            "val_loss: 0.26354124904652787\n",
            "Epoch [73/100], Avg accuracy: 83.6167, Validation accuracy: 83.70%\n",
            "Avg batch loss: 0.006851679198091816\n",
            "val_loss: 0.2716974333614133\n",
            "Epoch [74/100], Avg accuracy: 83.1333, Validation accuracy: 83.47%\n",
            "Avg batch loss: 0.006623330979043731\n",
            "val_loss: 0.2535460182245838\n",
            "Epoch [75/100], Avg accuracy: 83.6833, Validation accuracy: 84.37%\n",
            "Avg batch loss: 0.006386825262101285\n",
            "val_loss: 0.2549718442260654\n",
            "Epoch [76/100], Avg accuracy: 84.8500, Validation accuracy: 84.12%\n",
            "Avg batch loss: 0.006926916011450021\n",
            "val_loss: 0.2736562817371303\n",
            "Epoch [77/100], Avg accuracy: 82.8167, Validation accuracy: 83.15%\n",
            "Avg batch loss: 0.006190434289248185\n",
            "val_loss: 0.2505304573311929\n",
            "Epoch [78/100], Avg accuracy: 84.2333, Validation accuracy: 84.05%\n",
            "Avg batch loss: 0.006335628459796828\n",
            "val_loss: 0.24938997878708838\n",
            "Epoch [79/100], Avg accuracy: 83.8333, Validation accuracy: 84.18%\n",
            "Avg batch loss: 0.006127509874158814\n",
            "val_loss: 0.2517459549682878\n",
            "Epoch [80/100], Avg accuracy: 84.2667, Validation accuracy: 84.10%\n",
            "Avg batch loss: 0.0061520987696540115\n",
            "val_loss: 0.24426594048107148\n",
            "Epoch [81/100], Avg accuracy: 84.7000, Validation accuracy: 84.32%\n",
            "Avg batch loss: 0.006150214487063047\n",
            "val_loss: 0.2411833203627758\n",
            "Epoch [82/100], Avg accuracy: 84.5167, Validation accuracy: 83.87%\n",
            "Avg batch loss: 0.005997016156609853\n",
            "val_loss: 0.24169385523728507\n",
            "Epoch [83/100], Avg accuracy: 84.7833, Validation accuracy: 84.93%\n",
            "Avg batch loss: 0.0062854413395926735\n",
            "val_loss: 0.23792258793501234\n",
            "Epoch [84/100], Avg accuracy: 84.1833, Validation accuracy: 84.42%\n",
            "Avg batch loss: 0.005937873567608615\n",
            "val_loss: 0.2348918514704812\n",
            "Epoch [85/100], Avg accuracy: 84.5333, Validation accuracy: 84.85%\n",
            "Avg batch loss: 0.006001416496082161\n",
            "val_loss: 0.24185942695310667\n",
            "Epoch [86/100], Avg accuracy: 84.8833, Validation accuracy: 84.40%\n",
            "Avg batch loss: 0.006233361880844954\n",
            "val_loss: 0.23620781168381966\n",
            "Epoch [87/100], Avg accuracy: 84.7000, Validation accuracy: 84.80%\n",
            "Avg batch loss: 0.006189598223293679\n",
            "val_loss: 0.25545270476748416\n",
            "Epoch [88/100], Avg accuracy: 84.0334, Validation accuracy: 83.62%\n",
            "Avg batch loss: 0.006035236001032104\n",
            "val_loss: 0.23138025678271187\n",
            "Epoch [89/100], Avg accuracy: 84.6833, Validation accuracy: 84.73%\n",
            "Avg batch loss: 0.005729840292505231\n",
            "val_loss: 0.22447756587963288\n",
            "Epoch [90/100], Avg accuracy: 85.2666, Validation accuracy: 85.10%\n",
            "Avg batch loss: 0.005576609750346466\n",
            "val_loss: 0.21909068026550538\n",
            "Epoch [91/100], Avg accuracy: 84.9666, Validation accuracy: 85.57%\n",
            "Avg batch loss: 0.005527180920864155\n",
            "val_loss: 0.22827646323143355\n",
            "Epoch [92/100], Avg accuracy: 85.5333, Validation accuracy: 85.25%\n",
            "Avg batch loss: 0.005638730126594109\n",
            "val_loss: 0.2251108621795821\n",
            "Epoch [93/100], Avg accuracy: 85.5000, Validation accuracy: 85.25%\n",
            "Avg batch loss: 0.005785952706792816\n",
            "val_loss: 0.22756647794733675\n",
            "Epoch [94/100], Avg accuracy: 84.8500, Validation accuracy: 85.08%\n",
            "Avg batch loss: 0.005565287050141204\n",
            "val_loss: 0.2149705271370399\n",
            "Epoch [95/100], Avg accuracy: 85.3167, Validation accuracy: 85.27%\n",
            "Avg batch loss: 0.005805048713729083\n",
            "val_loss: 0.24568943490442804\n",
            "Epoch [96/100], Avg accuracy: 85.0000, Validation accuracy: 84.60%\n",
            "Avg batch loss: 0.005907388545954701\n",
            "val_loss: 0.23881806983206957\n",
            "Epoch [97/100], Avg accuracy: 84.9166, Validation accuracy: 84.77%\n",
            "Avg batch loss: 0.006069165806919291\n",
            "val_loss: 0.24022572510206505\n",
            "Epoch [98/100], Avg accuracy: 84.9500, Validation accuracy: 84.07%\n",
            "Avg batch loss: 0.0064169236688829834\n",
            "val_loss: 0.24605363014261267\n",
            "Epoch [99/100], Avg accuracy: 84.3166, Validation accuracy: 84.37%\n",
            "Avg batch loss: 0.006187674769533187\n",
            "val_loss: 0.2544032032781256\n",
            "Epoch [100/100], Avg accuracy: 84.2334, Validation accuracy: 83.83%\n"
          ]
        },
        {
          "output_type": "execute_result",
          "data": {
            "text/plain": [
              "<All keys matched successfully>"
            ]
          },
          "metadata": {},
          "execution_count": 16
        }
      ]
    },
    {
      "cell_type": "code",
      "source": [
        "import matplotlib.pyplot as plt\n",
        "%matplotlib inline\n",
        "\n",
        "val_loss_curve = list(map(lambda x: x / BATCH_SIZE , val_loss_curve))\n",
        "\n",
        "plt.plot(loss_curve, label = 'train loss')\n",
        "plt.plot(val_loss_curve, label = 'validation loss')\n",
        "plt.xlabel('Epoch')\n",
        "plt.ylabel('Loss')\n",
        "plt.title('Training Loss')\n",
        "plt.show()"
      ],
      "metadata": {
        "colab": {
          "base_uri": "https://localhost:8080/",
          "height": 472
        },
        "id": "AZ2q9I04-K4W",
        "outputId": "48c42de3-235a-4bf9-9a11-b98bacf11611"
      },
      "execution_count": 19,
      "outputs": [
        {
          "output_type": "display_data",
          "data": {
            "text/plain": [
              "<Figure size 640x480 with 1 Axes>"
            ],
            "image/png": "[encoded data removed]"
          },
          "metadata": {}
        }
      ]
    },
    {
      "cell_type": "code",
      "source": [
        "test_dataset = BoneDataset(X_test, y_test, transform = transform)\n",
        "test_loader = DataLoader(test_dataset, batch_size=BATCH_SIZE, shuffle=False, drop_last=True)"
      ],
      "metadata": {
        "id": "lVKUuifqgu4C"
      },
      "execution_count": 20,
      "outputs": []
    },
    {
      "cell_type": "markdown",
      "source": [
        "Настало время проверить точность нейронки на тестовых данных"
      ],
      "metadata": {
        "id": "r1b3jeXx9FGX"
      }
    },
    {
      "cell_type": "code",
      "source": [
        "with torch.no_grad():\n",
        "  model.eval()\n",
        "  acc = 0\n",
        "  for i, (inputs, labels) in enumerate(test_loader, 0):\n",
        "    outputs = model(inputs.cuda())\n",
        "    loss = criterion(outputs, labels.cuda().type(torch.float64))\n",
        "    acc += (outputs.round() == labels.cuda()).float().mean()\n",
        "  print(f'Test Accuracy: {acc / (i + 1) * 100}')\n"
      ],
      "metadata": {
        "id": "FI6CW7Dcix_n",
        "colab": {
          "base_uri": "https://localhost:8080/"
        },
        "outputId": "89ae4958-b8da-40d8-8d4e-16dac197a4c2"
      },
      "execution_count": 21,
      "outputs": [
        {
          "output_type": "stream",
          "name": "stdout",
          "text": [
            "Test Accuracy: 83.51351928710938\n"
          ]
        }
      ]
    },
    {
      "cell_type": "code",
      "source": [
        "#from sklearn.metrics import confusion_matrix, ConfusionMatrixDisplay\n",
        "%pip install torcheval\n",
        "from torcheval.metrics import BinaryConfusionMatrix\n",
        "\n",
        "metric = BinaryConfusionMatrix()\n",
        "\n",
        "with torch.no_grad():\n",
        "  model.eval()\n",
        "  acc = 0\n",
        "  cm = None\n",
        "  for i, (inputs, labels) in enumerate(test_loader, 0):\n",
        "    outputs = model(inputs.cuda())\n",
        "    metric.update(labels.type(torch.int64), outputs.round().type(torch.int64))\n",
        "print(\"Confusion matrix: \")\n",
        "result = metric.compute()\n",
        "\n",
        "tp, fn = result[0]\n",
        "fp, tn = result[1]\n",
        "\n",
        "print(\"tp:\", tp, \"fn:\", fn)\n",
        "print(\"fp:\", fp, \"tn:\", tn)\n",
        "\n",
        "total = tp + fn + fp + tn\n",
        "\n",
        "precision = tp / (tp + fp)\n",
        "recall = tp / (tp + fn)\n",
        "\n",
        "print(f\"Accuracy: {(tp + tn) / total}\")\n",
        "print(f\"Precision: {precision}\")\n",
        "print(f\"Recall: {recall}\")\n",
        "print(f\"f1 score: {precision * recall / (precision + recall)}\")"
      ],
      "metadata": {
        "id": "jwtzgKiTHFu0",
        "colab": {
          "base_uri": "https://localhost:8080/"
        },
        "outputId": "2bc585d3-0460-4a11-e7b4-d30e5e1cc107"
      },
      "execution_count": 22,
      "outputs": [
        {
          "output_type": "stream",
          "name": "stdout",
          "text": [
            "Collecting torcheval\n",
            "  Downloading torcheval-0.0.7-py3-none-any.whl.metadata (8.6 kB)\n",
            "Requirement already satisfied: typing-extensions in /usr/local/lib/python3.10/dist-packages (from torcheval) (4.12.2)\n",
            "Downloading torcheval-0.0.7-py3-none-any.whl (179 kB)\n",
            "\u001b[?25l   \u001b[90m━━━━━━━━━━━━━━━━━━━━━━━━━━━━━━━━━━━━━━━━\u001b[0m \u001b[32m0.0/179.2 kB\u001b[0m \u001b[31m?\u001b[0m eta \u001b[36m-:--:--\u001b[0m\r\u001b[2K   \u001b[90m━━━━━━━━━━━━━━━━━━━━━━━━━━━━━━━━━━━━━━━━\u001b[0m \u001b[32m179.2/179.2 kB\u001b[0m \u001b[31m7.3 MB/s\u001b[0m eta \u001b[36m0:00:00\u001b[0m\n",
            "\u001b[?25hInstalling collected packages: torcheval\n",
            "Successfully installed torcheval-0.0.7\n",
            "Confusion matrix: \n",
            "tp: tensor(594.) fn: tensor(124.)\n",
            "fp: tensor(120.) tn: tensor(642.)\n",
            "Accuracy: 0.8351351618766785\n",
            "Precision: 0.831932783126831\n",
            "Recall: 0.8272980451583862\n",
            "f1 score: 0.41480448842048645\n"
          ]
        }
      ]
    },
    {
      "cell_type": "markdown",
      "source": [
        "Вывод\n",
        "\n",
        "После первой тренировки нейросети я заметил еще несколько рисков при работе с изображениями:\n",
        "\n",
        "1. Размерность изображения и ориентация в пространстве -> необходимо привести изображения к единому виду, пригодному для обучения\n",
        "2. Не учтены особенности изображений с которомы мы работаем (например симметричность в случае данного датасета)\n",
        "3. Некачественные изображения, которые необходимо убирать руками\n",
        "\n",
        "В ходе работы были обработаны данные для датасета переломов костей, выявлены риски работы с данными. Была разработана нейросеть и обучена на очищенных данных и получены удовлетворительные значения для accuracy, precision & recall"
      ],
      "metadata": {
        "id": "BXqqPoZtKmB-"
      }
    }
  ]
}