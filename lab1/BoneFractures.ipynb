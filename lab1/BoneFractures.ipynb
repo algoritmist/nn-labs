{
  "nbformat": 4,
  "nbformat_minor": 0,
  "metadata": {
    "colab": {
      "provenance": [],
      "gpuType": "T4"
    },
    "kernelspec": {
      "name": "python3",
      "display_name": "Python 3"
    },
    "language_info": {
      "name": "python"
    },
    "accelerator": "GPU"
  },
  "cells": [
    {
      "cell_type": "code",
      "source": [
        "from google.colab import drive\n",
        "drive.mount('/content/drive')\n",
        "path_kaggle = \"/content/drive/MyDrive/kaggle\"\n",
        "path_xray = path_kaggle + \"/x-ray-dection\"\n",
        "\n",
        "path_train = path_xray + \"/training\"\n",
        "path_train_fractured = path_train + \"/fractured\"\n",
        "path_train_not_fractured = path_train + \"/not_fractured\"\n",
        "\n",
        "path_test = path_xray + \"/testing\"\n",
        "path_test_fractured = path_test + \"/fractured\"\n",
        "path_test_not_fractured = path_test + \"/not_fractured\"\n",
        "\n",
        "image_location_paths = [path_train_fractured, path_train_not_fractured, path_test_fractured, path_test_not_fractured]\n",
        "image_train_location_paths = [path_train_fractured, path_train_not_fractured]\n",
        "image_test_location_paths = [path_test_fractured, path_test_not_fractured]"
      ],
      "metadata": {
        "id": "uOtFFryk85vq",
        "colab": {
          "base_uri": "https://localhost:8080/"
        },
        "outputId": "9e4b6a1d-2c50-44e4-d948-05e291319a09"
      },
      "execution_count": 1,
      "outputs": [
        {
          "output_type": "stream",
          "name": "stdout",
          "text": [
            "Mounted at /content/drive\n"
          ]
        }
      ]
    },
    {
      "cell_type": "markdown",
      "source": [
        "Посмотрим репрезентативность обучающей выборки"
      ],
      "metadata": {
        "id": "4TplAAkZy-n2"
      }
    },
    {
      "cell_type": "code",
      "source": [
        "import os\n",
        "def group_images(image_paths):\n",
        "\n",
        "  grouped_imgs = dict()\n",
        "\n",
        "  for path in image_paths:\n",
        "    key = \"/\".join(path.split(\"/\")[:-1]) + \"/\" + path.split(\"/\")[-1].split(\".\")[0].split(\"-\")[0]\n",
        "    if key not in grouped_imgs:\n",
        "      grouped_imgs[key] = []\n",
        "    grouped_imgs[key].append(path)\n",
        "\n",
        "  return grouped_imgs\n",
        "\n",
        "images_paths = []\n",
        "\n",
        "for path in image_train_location_paths:\n",
        "  for dirname, _, filenames in os.walk(path):\n",
        "    for filename in filenames:\n",
        "      full_path = os.path.join(dirname, filename)\n",
        "      images_paths.append(full_path)\n",
        "\n",
        "images = group_images(images_paths)\n",
        "print(len(images))\n",
        "for (key, value) in list(images.items())[:10]:\n",
        "  print(f\"Image {key}: samples {len(value)}\")"
      ],
      "metadata": {
        "id": "a3qyOSgSy9zR",
        "colab": {
          "base_uri": "https://localhost:8080/"
        },
        "outputId": "e8b0282f-3580-4f4c-8ecb-06c3f5cccc2e"
      },
      "execution_count": 2,
      "outputs": [
        {
          "output_type": "stream",
          "name": "stdout",
          "text": [
            "178\n",
            "Image /content/drive/MyDrive/kaggle/x-ray-dection/training/fractured/74: samples 40\n",
            "Image /content/drive/MyDrive/kaggle/x-ray-dection/training/fractured/72: samples 40\n",
            "Image /content/drive/MyDrive/kaggle/x-ray-dection/training/fractured/73: samples 40\n",
            "Image /content/drive/MyDrive/kaggle/x-ray-dection/training/fractured/75: samples 40\n",
            "Image /content/drive/MyDrive/kaggle/x-ray-dection/training/fractured/71: samples 40\n",
            "Image /content/drive/MyDrive/kaggle/x-ray-dection/training/fractured/80: samples 40\n",
            "Image /content/drive/MyDrive/kaggle/x-ray-dection/training/fractured/79: samples 40\n",
            "Image /content/drive/MyDrive/kaggle/x-ray-dection/training/fractured/77: samples 40\n",
            "Image /content/drive/MyDrive/kaggle/x-ray-dection/training/fractured/76: samples 40\n",
            "Image /content/drive/MyDrive/kaggle/x-ray-dection/training/fractured/78: samples 40\n"
          ]
        }
      ]
    },
    {
      "cell_type": "code",
      "source": [
        "import matplotlib.pyplot as plt\n",
        "%matplotlib inline\n",
        "\n",
        "img_samples_dict = dict()\n",
        "for key, value in images.items():\n",
        "  if len(value) not in img_samples_dict:\n",
        "    img_samples_dict[len(value)] = []\n",
        "  img_samples_dict[len(value)].append(key)\n",
        "\n",
        "fig, ax = plt.subplots()\n",
        "ax.set_xlabel(\"Number of images\")\n",
        "ax.set_ylabel(\"Number of groups\")\n",
        "\n",
        "ax.bar(img_samples_dict.keys(), list(map(lambda x: len(x), img_samples_dict.values())))\n",
        "plt.show()"
      ],
      "metadata": {
        "id": "p1XfLrb_yYQR",
        "colab": {
          "base_uri": "https://localhost:8080/",
          "height": 449
        },
        "outputId": "fc3da2a3-dcd0-47d6-c99f-ed6822ea5814"
      },
      "execution_count": 3,
      "outputs": [
        {
          "output_type": "display_data",
          "data": {
            "text/plain": [
              "<Figure size 640x480 with 1 Axes>"
            ],
            "image/png": "[encoded data removed]"
          },
          "metadata": {}
        }
      ]
    },
    {
      "cell_type": "code",
      "source": [
        "import numpy as np\n",
        "train_mean = np.mean(list(img_samples_dict.keys()))\n",
        "train_std = np.std(list(img_samples_dict.keys()))\n",
        "train_v = train_std / train_mean\n",
        "\n",
        "print(f\"Mean: {train_mean}\")\n",
        "print(f\"Std: {train_std}\")\n",
        "print(f\"Cov: {train_v}\")"
      ],
      "metadata": {
        "id": "FI-Hfbi80-j1",
        "colab": {
          "base_uri": "https://localhost:8080/"
        },
        "outputId": "19dcf16e-7389-4cdc-ea7b-f831a6682112"
      },
      "execution_count": 4,
      "outputs": [
        {
          "output_type": "stream",
          "name": "stdout",
          "text": [
            "Mean: 45.0\n",
            "Std: 16.30950643030009\n",
            "Cov: 0.3624334762288909\n"
          ]
        }
      ]
    },
    {
      "cell_type": "markdown",
      "source": [
        "Посмотрим, можем ли мы лучше разделить train & test вручную"
      ],
      "metadata": {
        "id": "oiNZr0s2yOHJ"
      }
    },
    {
      "cell_type": "code",
      "source": [
        "from itertools import groupby\n",
        "import os\n",
        "\n",
        "def group_images(image_paths):\n",
        "\n",
        "  grouped_imgs = dict()\n",
        "\n",
        "  for path in image_paths:\n",
        "    key = \"/\".join(path.split(\"/\")[:-1]) + \"/\" + path.split(\"/\")[-1].split(\".\")[0].split(\"-\")[0]\n",
        "    if key not in grouped_imgs:\n",
        "      grouped_imgs[key] = []\n",
        "    grouped_imgs[key].append(path)\n",
        "\n",
        "  return grouped_imgs\n",
        "\n",
        "images_paths = []\n",
        "\n",
        "for path in image_location_paths:\n",
        "  for dirname, _, filenames in os.walk(path):\n",
        "    for filename in filenames:\n",
        "      full_path = os.path.join(dirname, filename)\n",
        "      images_paths.append(full_path)\n",
        "\n",
        "images = group_images(images_paths)\n",
        "print(len(images))\n",
        "for key, value in list(images.items())[:10]:\n",
        "  print(f\"Image {key}: samples {len(value)}\")"
      ],
      "metadata": {
        "id": "Wu7ImLFac6cT",
        "colab": {
          "base_uri": "https://localhost:8080/"
        },
        "outputId": "673f44c4-a1a9-429b-dea4-292b22f40edf"
      },
      "execution_count": 5,
      "outputs": [
        {
          "output_type": "stream",
          "name": "stdout",
          "text": [
            "191\n",
            "Image /content/drive/MyDrive/kaggle/x-ray-dection/training/fractured/74: samples 40\n",
            "Image /content/drive/MyDrive/kaggle/x-ray-dection/training/fractured/72: samples 40\n",
            "Image /content/drive/MyDrive/kaggle/x-ray-dection/training/fractured/73: samples 40\n",
            "Image /content/drive/MyDrive/kaggle/x-ray-dection/training/fractured/75: samples 40\n",
            "Image /content/drive/MyDrive/kaggle/x-ray-dection/training/fractured/71: samples 40\n",
            "Image /content/drive/MyDrive/kaggle/x-ray-dection/training/fractured/80: samples 40\n",
            "Image /content/drive/MyDrive/kaggle/x-ray-dection/training/fractured/79: samples 40\n",
            "Image /content/drive/MyDrive/kaggle/x-ray-dection/training/fractured/77: samples 40\n",
            "Image /content/drive/MyDrive/kaggle/x-ray-dection/training/fractured/76: samples 40\n",
            "Image /content/drive/MyDrive/kaggle/x-ray-dection/training/fractured/78: samples 40\n"
          ]
        }
      ]
    },
    {
      "cell_type": "code",
      "source": [
        "import matplotlib.pyplot as plt\n",
        "%matplotlib inline\n",
        "\n",
        "img_samples_dict = dict()\n",
        "for key, value in images.items():\n",
        "  if len(value) not in img_samples_dict:\n",
        "    img_samples_dict[len(value)] = []\n",
        "  img_samples_dict[len(value)].append(key)\n",
        "\n",
        "fig, ax = plt.subplots()\n",
        "ax.set_xlabel(\"Number of images\")\n",
        "ax.set_ylabel(\"Number of groups\")\n",
        "\n",
        "for key, value in img_samples_dict.items():\n",
        "  print(f\"Key: {key}, value: {len(value)}\")\n",
        "\n",
        "ax.bar(img_samples_dict.keys(), list(map(lambda x: len(x), img_samples_dict.values())))\n",
        "plt.show()"
      ],
      "metadata": {
        "id": "qailp8vEpiB-",
        "colab": {
          "base_uri": "https://localhost:8080/",
          "height": 518
        },
        "outputId": "f761029b-00d0-4ad8-c8f5-c98c85b916de"
      },
      "execution_count": 6,
      "outputs": [
        {
          "output_type": "stream",
          "name": "stdout",
          "text": [
            "Key: 40, value: 121\n",
            "Key: 67, value: 68\n",
            "Key: 28, value: 1\n",
            "Key: 39, value: 1\n"
          ]
        },
        {
          "output_type": "display_data",
          "data": {
            "text/plain": [
              "<Figure size 640x480 with 1 Axes>"
            ],
            "image/png": "[encoded data removed]"
          },
          "metadata": {}
        }
      ]
    },
    {
      "cell_type": "code",
      "source": [
        "train_mean = np.mean(list(img_samples_dict.keys()))\n",
        "train_std = np.std(list(img_samples_dict.keys()))\n",
        "train_v = train_std / train_mean\n",
        "\n",
        "print(f\"Mean: {train_mean}\")\n",
        "print(f\"Std: {train_std}\")\n",
        "print(f\"Cov: {train_v}\")"
      ],
      "metadata": {
        "id": "FKfAqHm9zzNO",
        "colab": {
          "base_uri": "https://localhost:8080/"
        },
        "outputId": "bcae0884-c4ee-488f-f537-2988cf4cd163"
      },
      "execution_count": 7,
      "outputs": [
        {
          "output_type": "stream",
          "name": "stdout",
          "text": [
            "Mean: 43.5\n",
            "Std: 14.361406616345072\n",
            "Cov: 0.3301472785366683\n"
          ]
        }
      ]
    },
    {
      "cell_type": "markdown",
      "source": [
        "Видим, что результат сильно не улучшился. В датасете присутсвуют аномалии, 28 и 39 изображений для одного пациента. Поскольку 39 близко к матожиданию, оставим эти изображения, а 28 изображений перенесем в валидацию, т.к их скорее всего будут нерепрезентативными для обучения на ранних стадиях. Набор на 67 и 68 изображений обрежем до 40"
      ],
      "metadata": {
        "id": "xD_lT1M93xQU"
      }
    },
    {
      "cell_type": "code",
      "source": [
        "images_filtered = []\n",
        "for k, v in images.items():\n",
        "  if len(v) <= 28:\n",
        "    continue\n",
        "  new_v = v[0:40] if len(v) > 40 else v\n",
        "  new_v = v\n",
        "  images_filtered.append(new_v)\n",
        "  #images_filtered.append(k)\n",
        "images_filtered = [item for imgs in images_filtered for item in imgs]"
      ],
      "metadata": {
        "id": "sAVoC_O6RUGR"
      },
      "execution_count": 8,
      "outputs": []
    },
    {
      "cell_type": "markdown",
      "source": [
        "Разобъем выборку на train, val, test"
      ],
      "metadata": {
        "id": "Ef0_2XxboUNP"
      }
    },
    {
      "cell_type": "markdown",
      "source": [
        "В результате исследования были выявлены потенциальные риски:\n",
        "1. Некачественные данные: малое или большое количество снимков -> смотрим на распределение и отсеиваем выбросы\n",
        "2. Риск переобучения -> создаем валидационную выборку\n",
        "3. Неправильная пометка данных (в train и test номера пациентов совпадают) -> вводим дополнительную метку для изначально предоставленного набора данных\n",
        "Вывод:\n",
        "В ходе работы я описал и устранил возможные риски при использовании данных с помощью анализа исходной выборки, подготовил данные и сделал разделение на тренировочную, валидационную и тестовую выборки"
      ],
      "metadata": {
        "id": "XVXD8ouDChGt"
      }
    },
    {
      "cell_type": "markdown",
      "source": [
        "## Часть 2. Обучение модели\n",
        "\n",
        "После 1-го обучения модели я получил точность порядка 50% на тестовых данных, что не очень меня впечатлило. Я решил еще раз взглянуть на изображения и понял, что почти все из них повернуты на ~20 градусов и фильтры нейронки просто не обучаются на \"пустых областях\". Дополнительно поворот на 90 градусов позволяет обрабатывать случаи симметричности (изображения повернуты в разные стороны в зависимости от того левая конечность или правая), как вариант можно было даже сгенерировать симметричные изображения, но колаб очень долго всё грузит  "
      ],
      "metadata": {
        "id": "EEa9u9pz4mz0"
      }
    },
    {
      "cell_type": "code",
      "source": [
        "from sklearn.model_selection import train_test_split\n",
        "import shutil\n",
        "from PIL import Image\n",
        "\n",
        "val_size = 0.2\n",
        "test_size = 0.2\n",
        "random_state = 42\n",
        "images_filtered = list(map(lambda img_path: (np.asarray(Image.open(img_path).rotate(20).transpose(Image.FLIP_LEFT_RIGHT).convert('L')), float(1) if \"not_fractured\" in img_path else float(0)), images_filtered))\n",
        "train_images, val_images = train_test_split(images_filtered, test_size=val_size, random_state=random_state)\n",
        "train_images, test_images = train_test_split(train_images, test_size=test_size, random_state=random_state)"
      ],
      "metadata": {
        "id": "3RCkFomWoZcV"
      },
      "execution_count": 9,
      "outputs": []
    },
    {
      "cell_type": "code",
      "source": [],
      "metadata": {
        "id": "em28EOzxSkdw"
      },
      "execution_count": 9,
      "outputs": []
    },
    {
      "cell_type": "markdown",
      "source": [
        "После разделения на train, val, test выборки также сожмем изображения до 224*224 (изображения такого вида будет принимать на вход наша нейросеть)"
      ],
      "metadata": {
        "id": "YJ5IIkaD6r4L"
      }
    },
    {
      "cell_type": "code",
      "source": [
        "X_train = list(filter(lambda x: x is not None, map(lambda x: x[0], train_images)))\n",
        "y_train = list(filter(lambda x: x is not  None, map(lambda x: x[1], train_images)))\n",
        "\n",
        "X_val = list(filter(lambda x: x is not  None, map(lambda x: x[0], val_images)))\n",
        "y_val = list(filter(lambda x: x is not  None, map(lambda x: x[1], val_images)))\n",
        "X_test = list(filter(lambda x: x is not  None, map(lambda x: x[0], test_images)))\n",
        "y_test = list(filter(lambda x: x is not None, map(lambda x: x[1], test_images)))\n",
        "\n",
        "X_train = list(map(lambda x: np.resize(x, (224,224)), X_train))\n",
        "X_val = list(map(lambda x: np.resize(x, (224,224)), X_val))\n",
        "\n",
        "X_test = list(map(lambda x: np.resize(x, (224,224)), X_test))"
      ],
      "metadata": {
        "id": "D6wMLibl4vFZ"
      },
      "execution_count": 10,
      "outputs": []
    },
    {
      "cell_type": "code",
      "source": [
        "import torch\n",
        "torch.cuda.is_available()"
      ],
      "metadata": {
        "id": "mvLpcqHPXXqQ",
        "colab": {
          "base_uri": "https://localhost:8080/"
        },
        "outputId": "f6e7ac74-3b9f-45d9-a6e2-e556a65fc20c"
      },
      "execution_count": 11,
      "outputs": [
        {
          "output_type": "execute_result",
          "data": {
            "text/plain": [
              "True"
            ]
          },
          "metadata": {},
          "execution_count": 11
        }
      ]
    },
    {
      "cell_type": "code",
      "source": [
        "X_train, y_train = torch.FloatTensor(X_train).cuda(), torch.FloatTensor(y_train).cuda()\n",
        "print(\"X_train, y_train on cuda: \", X_train.is_cuda, y_train.is_cuda)\n",
        "X_val, y_val = torch.FloatTensor(X_val).cuda(), torch.FloatTensor(y_val).cuda()\n",
        "print(\"X_val, y_val on cuda: \", X_val.is_cuda, y_val.is_cuda)\n",
        "X_test = torch.FloatTensor(X_test).cuda()\n",
        "y_test = torch.FloatTensor(y_test).cuda()\n",
        "print(\"X_test, y_test on cuda: \", X_test.is_cuda, y_test.is_cuda)\n"
      ],
      "metadata": {
        "id": "af13mUerXdFr",
        "colab": {
          "base_uri": "https://localhost:8080/"
        },
        "outputId": "d98c7680-8be8-40d1-c6f6-a2152bc95589"
      },
      "execution_count": 12,
      "outputs": [
        {
          "output_type": "stream",
          "name": "stderr",
          "text": [
            "<ipython-input-12-68b86022c3b7>:1: UserWarning: Creating a tensor from a list of numpy.ndarrays is extremely slow. Please consider converting the list to a single numpy.ndarray with numpy.array() before converting to a tensor. (Triggered internally at ../torch/csrc/utils/tensor_new.cpp:278.)\n",
            "  X_train, y_train = torch.FloatTensor(X_train).cuda(), torch.FloatTensor(y_train).cuda()\n"
          ]
        },
        {
          "output_type": "stream",
          "name": "stdout",
          "text": [
            "X_train, y_train on cuda:  True True\n",
            "X_val, y_val on cuda:  True True\n",
            "X_test, y_test on cuda:  True True\n"
          ]
        }
      ]
    },
    {
      "cell_type": "markdown",
      "source": [
        "Напишем свою нейросеть используя pytorch модули и датасеты (можно было взять готовую нейронку по типу AlexNet или LeNet, но я поздно сообразил)\n",
        "\n",
        "Архитектура нейросети:\n",
        "\n",
        "1. Image Bath \\[40, 224, 224\\] -> Conv1: kernel 3x3, stride = 1, padding = 0\n",
        "2. Conv1 -> FC1 : kernel 2x2, stride = 2, padding = 0 (уменьшаем размерность изображения в 4 раза)\n",
        "3. FC1 -> Conv2: kernel 3x3, stide = 1, padding = 0 (ищем новые паттерны)\n",
        "4. Conv2 -> FC2: kernel 3x3, stride = 2, padding = 1 (снова уменьшаем размерность)\n",
        "\n",
        "Применив сигмойду к FC2 получим бинарную классивикацию изображения на наличие переломов"
      ],
      "metadata": {
        "id": "8jeW8dRA7IHr"
      }
    },
    {
      "cell_type": "code",
      "source": [
        "import torch\n",
        "import torch.nn as nn\n",
        "import torch.optim as optim\n",
        "from torch.utils.data import DataLoader, Dataset\n",
        "import torchvision.transforms as transforms\n",
        "from torchvision import datasets\n",
        "import numpy as np\n",
        "from sklearn.model_selection import train_test_split\n",
        "import copy\n",
        "\n",
        "class BoneClassifier(nn.Module):\n",
        "    def __init__(self):\n",
        "      super(BoneClassifier, self).__init__()\n",
        "      self.conv1 = nn.Conv2d(40, 40, kernel_size=3, stride=1, padding=0)\n",
        "      self.conv2 = nn.Conv2d(40, 40, kernel_size=3, stride=1, padding=0)\n",
        "      self.fc1 = nn.Linear(55 * 55, 28)\n",
        "      self.fc2 = nn.Linear(28, 1)  # Binary classification\n",
        "\n",
        "    def forward(self, x):\n",
        "      x = nn.ReLU()(self.conv1(x))\n",
        "      #print(x.shape)\n",
        "      x = nn.MaxPool2d(kernel_size=2, stride=2, padding=0)(x)\n",
        "      #print(x.shape)\n",
        "      x = nn.ReLU()(self.conv2(x))\n",
        "      #print(x.shape)\n",
        "      x = nn.MaxPool2d(kernel_size=3, stride=2, padding=1)(x)\n",
        "      #print(x.shape)\n",
        "      x = x.view(-1, self.num_flat_features(x))  # Flatten the tensor\n",
        "      x = nn.ReLU()(self.fc1(x))\n",
        "      x = torch.sigmoid(self.fc2(x))  # Sigmoid for binary classification\n",
        "      return x.flatten().type(torch.float64)\n",
        "    def num_flat_features(self, x):\n",
        "      size = x.size()[1:]  # all dimensions except the batch dimension\n",
        "      num_features = 1\n",
        "      for s in size:\n",
        "        num_features *= s\n",
        "      return num_features\n",
        "\n",
        "# Custom Dataset\n",
        "class BoneDataset(Dataset):\n",
        "    def __init__(self, images, labels, transform=None):\n",
        "        self.images = images\n",
        "        self.labels = labels\n",
        "        self.transform = transform\n",
        "\n",
        "    def __len__(self):\n",
        "        return len(self.images)\n",
        "\n",
        "    def __getitem__(self, idx):\n",
        "        image = self.images[idx]\n",
        "        label = self.labels[idx]\n",
        "        if self.transform:\n",
        "            image = self.transform(image)\n",
        "        return image, label\n",
        "\n",
        "transform = transforms.Compose([\n",
        "#    transforms.ToPILImage(),\n",
        "    transforms.ToTensor()\n",
        "#    transforms.Resize((224, 224)),  # Resize images to 224x224\n",
        "])\n",
        "\n",
        "# Create datasets\n",
        "train_dataset = BoneDataset(X_train, y_train, transform=None)\n",
        "val_dataset = BoneDataset(X_val, y_val, transform=None)\n",
        "\n",
        "BATCH_SIZE = 40\n",
        "\n",
        "# Create DataLoader\n",
        "train_loader = DataLoader(train_dataset, batch_size=BATCH_SIZE, shuffle=True, drop_last=True)\n",
        "val_loader = DataLoader(val_dataset, batch_size=BATCH_SIZE, shuffle=False, drop_last=True)\n",
        "\n",
        "# Initialize the model, loss function, and optimizer\n",
        "model = BoneClassifier().cuda()\n",
        "criterion = nn.BCELoss()  # Binary Cross-Entropy Loss\n",
        "optimizer = optim.Adam(model.parameters(), lr=0.0001)\n",
        "\n",
        "# Training loop\n",
        "num_epochs = 250\n",
        "best_acc = -1\n",
        "best_weights = copy.deepcopy(model.state_dict())\n",
        "loss_curve = []\n",
        "for epoch in range(num_epochs):\n",
        "    model.train(True)\n",
        "    acc = 0.0\n",
        "    batch_loss = 0.0\n",
        "    for i, (inputs, labels) in enumerate(train_loader, 0):\n",
        "      optimizer.zero_grad()\n",
        "      outputs = model(inputs.cuda())\n",
        "      loss = criterion(outputs, labels.cuda().type(torch.float64))\n",
        "      loss.backward()\n",
        "      optimizer.step()\n",
        "      acc += (outputs.round() == labels.cuda()).float().mean()\n",
        "      batch_loss += loss.item()\n",
        "\n",
        "    batch_loss /= (i + 1)\n",
        "    loss_curve.append(batch_loss)\n",
        "    acc = acc / (i + 1)\n",
        "\n",
        "    with torch.no_grad():\n",
        "      model.eval()\n",
        "      val_acc = 0\n",
        "      for i, (inputs, labels) in enumerate(val_loader, 0):\n",
        "        outputs = model(inputs.cuda())\n",
        "        val_acc += (outputs.round() == labels.cuda()).float().mean()\n",
        "      avg_acc = val_acc / (i + 1)\n",
        "      if avg_acc > best_acc:\n",
        "          best_acc = avg_acc\n",
        "          best_weights = copy.deepcopy(model.state_dict())\n",
        "      print(f'Epoch [{epoch + 1}/{num_epochs}], Avg accuracy: {acc * 100:.4f}, Validation accuracy: {100 * avg_acc:.2f}%')\n",
        "model.load_state_dict(best_weights)\n"
      ],
      "metadata": {
        "id": "H7rFPTW-QH2R",
        "colab": {
          "base_uri": "https://localhost:8080/"
        },
        "outputId": "1b830ba4-4a0f-4b39-b278-a4436a0389b9"
      },
      "execution_count": 13,
      "outputs": [
        {
          "output_type": "stream",
          "name": "stdout",
          "text": [
            "Epoch [1/250], Avg accuracy: 49.9333, Validation accuracy: 49.52%\n",
            "Epoch [2/250], Avg accuracy: 50.2333, Validation accuracy: 50.69%\n",
            "Epoch [3/250], Avg accuracy: 49.3333, Validation accuracy: 50.64%\n",
            "Epoch [4/250], Avg accuracy: 49.4167, Validation accuracy: 50.69%\n",
            "Epoch [5/250], Avg accuracy: 50.3000, Validation accuracy: 52.07%\n",
            "Epoch [6/250], Avg accuracy: 51.7000, Validation accuracy: 52.13%\n",
            "Epoch [7/250], Avg accuracy: 49.1000, Validation accuracy: 50.37%\n",
            "Epoch [8/250], Avg accuracy: 51.3667, Validation accuracy: 50.37%\n",
            "Epoch [9/250], Avg accuracy: 49.7500, Validation accuracy: 49.84%\n",
            "Epoch [10/250], Avg accuracy: 49.6167, Validation accuracy: 49.79%\n",
            "Epoch [11/250], Avg accuracy: 48.5167, Validation accuracy: 49.84%\n",
            "Epoch [12/250], Avg accuracy: 48.6667, Validation accuracy: 49.15%\n",
            "Epoch [13/250], Avg accuracy: 48.6833, Validation accuracy: 49.47%\n",
            "Epoch [14/250], Avg accuracy: 49.4333, Validation accuracy: 48.56%\n",
            "Epoch [15/250], Avg accuracy: 50.8500, Validation accuracy: 48.62%\n",
            "Epoch [16/250], Avg accuracy: 49.6333, Validation accuracy: 48.56%\n",
            "Epoch [17/250], Avg accuracy: 49.4667, Validation accuracy: 48.30%\n",
            "Epoch [18/250], Avg accuracy: 49.7667, Validation accuracy: 47.45%\n",
            "Epoch [19/250], Avg accuracy: 49.9667, Validation accuracy: 48.94%\n",
            "Epoch [20/250], Avg accuracy: 50.2167, Validation accuracy: 48.88%\n",
            "Epoch [21/250], Avg accuracy: 49.0666, Validation accuracy: 49.04%\n",
            "Epoch [22/250], Avg accuracy: 48.6833, Validation accuracy: 49.20%\n",
            "Epoch [23/250], Avg accuracy: 48.9167, Validation accuracy: 48.24%\n",
            "Epoch [24/250], Avg accuracy: 49.5667, Validation accuracy: 50.43%\n",
            "Epoch [25/250], Avg accuracy: 49.3333, Validation accuracy: 47.13%\n",
            "Epoch [26/250], Avg accuracy: 49.5167, Validation accuracy: 49.79%\n",
            "Epoch [27/250], Avg accuracy: 50.4667, Validation accuracy: 48.14%\n",
            "Epoch [28/250], Avg accuracy: 50.3000, Validation accuracy: 48.35%\n",
            "Epoch [29/250], Avg accuracy: 49.4500, Validation accuracy: 47.77%\n",
            "Epoch [30/250], Avg accuracy: 49.7333, Validation accuracy: 48.03%\n",
            "Epoch [31/250], Avg accuracy: 49.3000, Validation accuracy: 48.62%\n",
            "Epoch [32/250], Avg accuracy: 49.6333, Validation accuracy: 49.47%\n",
            "Epoch [33/250], Avg accuracy: 49.9333, Validation accuracy: 49.73%\n",
            "Epoch [34/250], Avg accuracy: 49.3000, Validation accuracy: 49.36%\n",
            "Epoch [35/250], Avg accuracy: 49.2833, Validation accuracy: 49.10%\n",
            "Epoch [36/250], Avg accuracy: 50.1667, Validation accuracy: 49.89%\n",
            "Epoch [37/250], Avg accuracy: 49.3833, Validation accuracy: 48.94%\n",
            "Epoch [38/250], Avg accuracy: 49.8000, Validation accuracy: 49.95%\n",
            "Epoch [39/250], Avg accuracy: 51.0333, Validation accuracy: 49.36%\n",
            "Epoch [40/250], Avg accuracy: 49.8833, Validation accuracy: 48.09%\n",
            "Epoch [41/250], Avg accuracy: 50.3167, Validation accuracy: 48.24%\n",
            "Epoch [42/250], Avg accuracy: 50.1833, Validation accuracy: 48.67%\n",
            "Epoch [43/250], Avg accuracy: 50.7667, Validation accuracy: 49.73%\n",
            "Epoch [44/250], Avg accuracy: 51.3667, Validation accuracy: 49.52%\n",
            "Epoch [45/250], Avg accuracy: 50.6333, Validation accuracy: 50.80%\n",
            "Epoch [46/250], Avg accuracy: 51.1667, Validation accuracy: 51.49%\n",
            "Epoch [47/250], Avg accuracy: 50.4667, Validation accuracy: 50.64%\n",
            "Epoch [48/250], Avg accuracy: 50.8833, Validation accuracy: 50.90%\n",
            "Epoch [49/250], Avg accuracy: 50.5667, Validation accuracy: 51.06%\n",
            "Epoch [50/250], Avg accuracy: 50.8000, Validation accuracy: 49.95%\n",
            "Epoch [51/250], Avg accuracy: 50.3833, Validation accuracy: 49.26%\n",
            "Epoch [52/250], Avg accuracy: 49.9667, Validation accuracy: 50.59%\n",
            "Epoch [53/250], Avg accuracy: 50.6333, Validation accuracy: 49.84%\n",
            "Epoch [54/250], Avg accuracy: 50.7333, Validation accuracy: 49.41%\n",
            "Epoch [55/250], Avg accuracy: 52.7167, Validation accuracy: 52.77%\n",
            "Epoch [56/250], Avg accuracy: 52.6833, Validation accuracy: 52.07%\n",
            "Epoch [57/250], Avg accuracy: 52.2000, Validation accuracy: 52.07%\n",
            "Epoch [58/250], Avg accuracy: 50.6333, Validation accuracy: 51.12%\n",
            "Epoch [59/250], Avg accuracy: 52.0833, Validation accuracy: 51.44%\n",
            "Epoch [60/250], Avg accuracy: 53.2000, Validation accuracy: 54.89%\n",
            "Epoch [61/250], Avg accuracy: 52.6333, Validation accuracy: 50.80%\n",
            "Epoch [62/250], Avg accuracy: 53.5167, Validation accuracy: 53.14%\n",
            "Epoch [63/250], Avg accuracy: 53.4500, Validation accuracy: 53.78%\n",
            "Epoch [64/250], Avg accuracy: 53.3333, Validation accuracy: 54.20%\n",
            "Epoch [65/250], Avg accuracy: 55.2834, Validation accuracy: 54.89%\n",
            "Epoch [66/250], Avg accuracy: 55.4000, Validation accuracy: 53.99%\n",
            "Epoch [67/250], Avg accuracy: 55.4667, Validation accuracy: 55.43%\n",
            "Epoch [68/250], Avg accuracy: 56.3000, Validation accuracy: 56.86%\n",
            "Epoch [69/250], Avg accuracy: 57.7333, Validation accuracy: 57.82%\n",
            "Epoch [70/250], Avg accuracy: 58.0334, Validation accuracy: 58.88%\n",
            "Epoch [71/250], Avg accuracy: 59.2667, Validation accuracy: 59.47%\n",
            "Epoch [72/250], Avg accuracy: 61.2167, Validation accuracy: 59.04%\n",
            "Epoch [73/250], Avg accuracy: 59.3667, Validation accuracy: 58.56%\n",
            "Epoch [74/250], Avg accuracy: 61.7167, Validation accuracy: 60.59%\n",
            "Epoch [75/250], Avg accuracy: 63.9000, Validation accuracy: 60.69%\n",
            "Epoch [76/250], Avg accuracy: 63.4833, Validation accuracy: 60.37%\n",
            "Epoch [77/250], Avg accuracy: 64.2333, Validation accuracy: 60.96%\n",
            "Epoch [78/250], Avg accuracy: 64.5000, Validation accuracy: 62.55%\n",
            "Epoch [79/250], Avg accuracy: 64.5833, Validation accuracy: 61.86%\n",
            "Epoch [80/250], Avg accuracy: 64.7667, Validation accuracy: 63.51%\n",
            "Epoch [81/250], Avg accuracy: 67.3333, Validation accuracy: 64.63%\n",
            "Epoch [82/250], Avg accuracy: 67.2166, Validation accuracy: 65.00%\n",
            "Epoch [83/250], Avg accuracy: 68.2500, Validation accuracy: 65.80%\n",
            "Epoch [84/250], Avg accuracy: 68.3500, Validation accuracy: 66.91%\n",
            "Epoch [85/250], Avg accuracy: 69.3667, Validation accuracy: 66.06%\n",
            "Epoch [86/250], Avg accuracy: 70.5000, Validation accuracy: 67.45%\n",
            "Epoch [87/250], Avg accuracy: 70.4833, Validation accuracy: 67.39%\n",
            "Epoch [88/250], Avg accuracy: 70.7167, Validation accuracy: 66.81%\n",
            "Epoch [89/250], Avg accuracy: 71.7667, Validation accuracy: 68.51%\n",
            "Epoch [90/250], Avg accuracy: 71.7667, Validation accuracy: 67.93%\n",
            "Epoch [91/250], Avg accuracy: 72.7000, Validation accuracy: 68.46%\n",
            "Epoch [92/250], Avg accuracy: 72.2333, Validation accuracy: 68.62%\n",
            "Epoch [93/250], Avg accuracy: 72.5000, Validation accuracy: 69.68%\n",
            "Epoch [94/250], Avg accuracy: 72.4667, Validation accuracy: 68.88%\n",
            "Epoch [95/250], Avg accuracy: 72.5500, Validation accuracy: 68.99%\n",
            "Epoch [96/250], Avg accuracy: 72.5167, Validation accuracy: 68.56%\n",
            "Epoch [97/250], Avg accuracy: 72.1500, Validation accuracy: 69.10%\n",
            "Epoch [98/250], Avg accuracy: 73.2000, Validation accuracy: 68.51%\n",
            "Epoch [99/250], Avg accuracy: 73.2833, Validation accuracy: 69.26%\n",
            "Epoch [100/250], Avg accuracy: 73.4833, Validation accuracy: 68.88%\n",
            "Epoch [101/250], Avg accuracy: 72.7833, Validation accuracy: 69.84%\n",
            "Epoch [102/250], Avg accuracy: 72.9000, Validation accuracy: 70.05%\n",
            "Epoch [103/250], Avg accuracy: 72.8167, Validation accuracy: 70.11%\n",
            "Epoch [104/250], Avg accuracy: 74.1000, Validation accuracy: 69.10%\n",
            "Epoch [105/250], Avg accuracy: 71.3500, Validation accuracy: 69.47%\n",
            "Epoch [106/250], Avg accuracy: 74.1333, Validation accuracy: 69.79%\n",
            "Epoch [107/250], Avg accuracy: 72.9833, Validation accuracy: 70.32%\n",
            "Epoch [108/250], Avg accuracy: 75.0167, Validation accuracy: 70.69%\n",
            "Epoch [109/250], Avg accuracy: 73.4333, Validation accuracy: 70.37%\n",
            "Epoch [110/250], Avg accuracy: 73.0500, Validation accuracy: 68.14%\n",
            "Epoch [111/250], Avg accuracy: 72.7667, Validation accuracy: 68.99%\n",
            "Epoch [112/250], Avg accuracy: 72.3833, Validation accuracy: 69.68%\n",
            "Epoch [113/250], Avg accuracy: 72.6500, Validation accuracy: 68.83%\n",
            "Epoch [114/250], Avg accuracy: 72.2167, Validation accuracy: 70.96%\n",
            "Epoch [115/250], Avg accuracy: 73.9167, Validation accuracy: 70.90%\n",
            "Epoch [116/250], Avg accuracy: 73.3167, Validation accuracy: 70.43%\n",
            "Epoch [117/250], Avg accuracy: 74.1834, Validation accuracy: 70.37%\n",
            "Epoch [118/250], Avg accuracy: 73.4000, Validation accuracy: 70.37%\n",
            "Epoch [119/250], Avg accuracy: 73.5000, Validation accuracy: 69.04%\n",
            "Epoch [120/250], Avg accuracy: 73.7833, Validation accuracy: 72.34%\n",
            "Epoch [121/250], Avg accuracy: 74.1833, Validation accuracy: 70.32%\n",
            "Epoch [122/250], Avg accuracy: 74.6167, Validation accuracy: 72.02%\n",
            "Epoch [123/250], Avg accuracy: 73.9667, Validation accuracy: 72.18%\n",
            "Epoch [124/250], Avg accuracy: 73.9333, Validation accuracy: 71.81%\n",
            "Epoch [125/250], Avg accuracy: 73.7500, Validation accuracy: 72.29%\n",
            "Epoch [126/250], Avg accuracy: 74.0500, Validation accuracy: 70.05%\n",
            "Epoch [127/250], Avg accuracy: 74.2167, Validation accuracy: 71.01%\n",
            "Epoch [128/250], Avg accuracy: 74.1334, Validation accuracy: 70.74%\n",
            "Epoch [129/250], Avg accuracy: 73.6333, Validation accuracy: 69.84%\n",
            "Epoch [130/250], Avg accuracy: 74.4334, Validation accuracy: 71.81%\n",
            "Epoch [131/250], Avg accuracy: 73.6167, Validation accuracy: 70.32%\n",
            "Epoch [132/250], Avg accuracy: 74.2000, Validation accuracy: 69.79%\n",
            "Epoch [133/250], Avg accuracy: 72.9000, Validation accuracy: 70.00%\n",
            "Epoch [134/250], Avg accuracy: 74.3000, Validation accuracy: 70.53%\n",
            "Epoch [135/250], Avg accuracy: 74.2167, Validation accuracy: 72.34%\n",
            "Epoch [136/250], Avg accuracy: 74.2167, Validation accuracy: 69.95%\n",
            "Epoch [137/250], Avg accuracy: 74.2000, Validation accuracy: 69.47%\n",
            "Epoch [138/250], Avg accuracy: 73.8000, Validation accuracy: 70.21%\n",
            "Epoch [139/250], Avg accuracy: 74.6167, Validation accuracy: 70.37%\n",
            "Epoch [140/250], Avg accuracy: 73.6500, Validation accuracy: 71.49%\n",
            "Epoch [141/250], Avg accuracy: 74.9666, Validation accuracy: 71.38%\n",
            "Epoch [142/250], Avg accuracy: 74.9000, Validation accuracy: 71.60%\n",
            "Epoch [143/250], Avg accuracy: 74.1167, Validation accuracy: 70.43%\n",
            "Epoch [144/250], Avg accuracy: 74.3167, Validation accuracy: 71.33%\n",
            "Epoch [145/250], Avg accuracy: 74.7167, Validation accuracy: 71.54%\n",
            "Epoch [146/250], Avg accuracy: 74.5334, Validation accuracy: 72.39%\n",
            "Epoch [147/250], Avg accuracy: 74.5833, Validation accuracy: 72.18%\n",
            "Epoch [148/250], Avg accuracy: 74.7000, Validation accuracy: 72.45%\n",
            "Epoch [149/250], Avg accuracy: 74.5167, Validation accuracy: 72.66%\n",
            "Epoch [150/250], Avg accuracy: 74.4500, Validation accuracy: 72.50%\n",
            "Epoch [151/250], Avg accuracy: 74.3500, Validation accuracy: 72.39%\n",
            "Epoch [152/250], Avg accuracy: 74.8833, Validation accuracy: 72.55%\n",
            "Epoch [153/250], Avg accuracy: 73.5167, Validation accuracy: 72.98%\n",
            "Epoch [154/250], Avg accuracy: 75.2167, Validation accuracy: 72.61%\n",
            "Epoch [155/250], Avg accuracy: 74.8667, Validation accuracy: 72.34%\n",
            "Epoch [156/250], Avg accuracy: 74.4333, Validation accuracy: 72.07%\n",
            "Epoch [157/250], Avg accuracy: 74.2000, Validation accuracy: 72.66%\n",
            "Epoch [158/250], Avg accuracy: 74.9834, Validation accuracy: 72.29%\n",
            "Epoch [159/250], Avg accuracy: 74.5167, Validation accuracy: 72.18%\n",
            "Epoch [160/250], Avg accuracy: 74.1833, Validation accuracy: 72.34%\n",
            "Epoch [161/250], Avg accuracy: 74.7500, Validation accuracy: 72.77%\n",
            "Epoch [162/250], Avg accuracy: 74.7667, Validation accuracy: 72.39%\n",
            "Epoch [163/250], Avg accuracy: 75.3000, Validation accuracy: 73.14%\n",
            "Epoch [164/250], Avg accuracy: 74.4500, Validation accuracy: 72.98%\n",
            "Epoch [165/250], Avg accuracy: 74.1333, Validation accuracy: 72.23%\n",
            "Epoch [166/250], Avg accuracy: 74.1334, Validation accuracy: 72.13%\n",
            "Epoch [167/250], Avg accuracy: 74.5167, Validation accuracy: 72.82%\n",
            "Epoch [168/250], Avg accuracy: 74.5333, Validation accuracy: 71.49%\n",
            "Epoch [169/250], Avg accuracy: 74.9333, Validation accuracy: 72.39%\n",
            "Epoch [170/250], Avg accuracy: 74.2667, Validation accuracy: 72.55%\n",
            "Epoch [171/250], Avg accuracy: 74.2833, Validation accuracy: 72.82%\n",
            "Epoch [172/250], Avg accuracy: 74.6667, Validation accuracy: 72.71%\n",
            "Epoch [173/250], Avg accuracy: 74.8500, Validation accuracy: 72.66%\n",
            "Epoch [174/250], Avg accuracy: 74.9167, Validation accuracy: 72.50%\n",
            "Epoch [175/250], Avg accuracy: 74.9333, Validation accuracy: 72.29%\n",
            "Epoch [176/250], Avg accuracy: 74.2500, Validation accuracy: 72.34%\n",
            "Epoch [177/250], Avg accuracy: 74.2333, Validation accuracy: 71.65%\n",
            "Epoch [178/250], Avg accuracy: 73.8667, Validation accuracy: 70.74%\n",
            "Epoch [179/250], Avg accuracy: 73.9833, Validation accuracy: 72.29%\n",
            "Epoch [180/250], Avg accuracy: 74.8833, Validation accuracy: 72.45%\n",
            "Epoch [181/250], Avg accuracy: 75.2334, Validation accuracy: 72.34%\n",
            "Epoch [182/250], Avg accuracy: 74.0667, Validation accuracy: 72.71%\n",
            "Epoch [183/250], Avg accuracy: 74.4833, Validation accuracy: 72.34%\n",
            "Epoch [184/250], Avg accuracy: 74.4667, Validation accuracy: 70.53%\n",
            "Epoch [185/250], Avg accuracy: 73.9500, Validation accuracy: 71.06%\n",
            "Epoch [186/250], Avg accuracy: 75.3833, Validation accuracy: 72.50%\n",
            "Epoch [187/250], Avg accuracy: 74.3833, Validation accuracy: 71.22%\n",
            "Epoch [188/250], Avg accuracy: 74.4167, Validation accuracy: 72.02%\n",
            "Epoch [189/250], Avg accuracy: 75.4167, Validation accuracy: 72.13%\n",
            "Epoch [190/250], Avg accuracy: 75.5000, Validation accuracy: 73.19%\n",
            "Epoch [191/250], Avg accuracy: 74.8500, Validation accuracy: 72.18%\n",
            "Epoch [192/250], Avg accuracy: 74.9833, Validation accuracy: 72.87%\n",
            "Epoch [193/250], Avg accuracy: 74.3167, Validation accuracy: 72.02%\n",
            "Epoch [194/250], Avg accuracy: 75.2167, Validation accuracy: 72.23%\n",
            "Epoch [195/250], Avg accuracy: 74.4667, Validation accuracy: 72.34%\n",
            "Epoch [196/250], Avg accuracy: 74.7166, Validation accuracy: 72.18%\n",
            "Epoch [197/250], Avg accuracy: 75.0833, Validation accuracy: 72.23%\n",
            "Epoch [198/250], Avg accuracy: 75.1500, Validation accuracy: 72.71%\n",
            "Epoch [199/250], Avg accuracy: 74.6667, Validation accuracy: 73.24%\n",
            "Epoch [200/250], Avg accuracy: 74.8833, Validation accuracy: 72.23%\n",
            "Epoch [201/250], Avg accuracy: 74.4333, Validation accuracy: 72.87%\n",
            "Epoch [202/250], Avg accuracy: 75.4000, Validation accuracy: 72.61%\n",
            "Epoch [203/250], Avg accuracy: 74.3000, Validation accuracy: 72.71%\n",
            "Epoch [204/250], Avg accuracy: 75.1333, Validation accuracy: 72.87%\n",
            "Epoch [205/250], Avg accuracy: 76.0500, Validation accuracy: 72.77%\n",
            "Epoch [206/250], Avg accuracy: 74.7167, Validation accuracy: 72.82%\n",
            "Epoch [207/250], Avg accuracy: 74.5167, Validation accuracy: 72.39%\n",
            "Epoch [208/250], Avg accuracy: 75.3667, Validation accuracy: 72.66%\n",
            "Epoch [209/250], Avg accuracy: 74.9500, Validation accuracy: 71.44%\n",
            "Epoch [210/250], Avg accuracy: 74.9667, Validation accuracy: 72.02%\n",
            "Epoch [211/250], Avg accuracy: 74.8667, Validation accuracy: 72.13%\n",
            "Epoch [212/250], Avg accuracy: 75.2667, Validation accuracy: 72.71%\n",
            "Epoch [213/250], Avg accuracy: 75.3834, Validation accuracy: 72.34%\n",
            "Epoch [214/250], Avg accuracy: 75.0333, Validation accuracy: 72.23%\n",
            "Epoch [215/250], Avg accuracy: 74.8667, Validation accuracy: 72.29%\n",
            "Epoch [216/250], Avg accuracy: 75.1833, Validation accuracy: 72.93%\n",
            "Epoch [217/250], Avg accuracy: 75.4167, Validation accuracy: 72.39%\n",
            "Epoch [218/250], Avg accuracy: 74.3000, Validation accuracy: 71.49%\n",
            "Epoch [219/250], Avg accuracy: 74.5167, Validation accuracy: 73.03%\n",
            "Epoch [220/250], Avg accuracy: 75.0500, Validation accuracy: 72.23%\n",
            "Epoch [221/250], Avg accuracy: 74.7667, Validation accuracy: 72.87%\n",
            "Epoch [222/250], Avg accuracy: 74.3333, Validation accuracy: 73.03%\n",
            "Epoch [223/250], Avg accuracy: 74.7000, Validation accuracy: 72.39%\n",
            "Epoch [224/250], Avg accuracy: 74.6833, Validation accuracy: 70.69%\n",
            "Epoch [225/250], Avg accuracy: 74.4167, Validation accuracy: 71.81%\n",
            "Epoch [226/250], Avg accuracy: 74.8667, Validation accuracy: 72.61%\n",
            "Epoch [227/250], Avg accuracy: 74.6333, Validation accuracy: 72.93%\n",
            "Epoch [228/250], Avg accuracy: 74.2167, Validation accuracy: 72.71%\n",
            "Epoch [229/250], Avg accuracy: 74.5500, Validation accuracy: 72.66%\n",
            "Epoch [230/250], Avg accuracy: 74.1833, Validation accuracy: 72.45%\n",
            "Epoch [231/250], Avg accuracy: 74.1333, Validation accuracy: 71.22%\n",
            "Epoch [232/250], Avg accuracy: 74.3333, Validation accuracy: 72.39%\n",
            "Epoch [233/250], Avg accuracy: 73.8000, Validation accuracy: 72.71%\n",
            "Epoch [234/250], Avg accuracy: 74.3000, Validation accuracy: 72.55%\n",
            "Epoch [235/250], Avg accuracy: 74.7167, Validation accuracy: 72.66%\n",
            "Epoch [236/250], Avg accuracy: 74.8833, Validation accuracy: 73.09%\n",
            "Epoch [237/250], Avg accuracy: 75.0500, Validation accuracy: 72.82%\n",
            "Epoch [238/250], Avg accuracy: 74.9167, Validation accuracy: 72.07%\n",
            "Epoch [239/250], Avg accuracy: 74.7167, Validation accuracy: 73.46%\n",
            "Epoch [240/250], Avg accuracy: 74.1333, Validation accuracy: 71.65%\n",
            "Epoch [241/250], Avg accuracy: 74.6500, Validation accuracy: 71.76%\n",
            "Epoch [242/250], Avg accuracy: 74.1000, Validation accuracy: 70.80%\n",
            "Epoch [243/250], Avg accuracy: 72.7000, Validation accuracy: 70.43%\n",
            "Epoch [244/250], Avg accuracy: 72.3500, Validation accuracy: 70.32%\n",
            "Epoch [245/250], Avg accuracy: 72.8167, Validation accuracy: 72.07%\n",
            "Epoch [246/250], Avg accuracy: 74.0334, Validation accuracy: 71.86%\n",
            "Epoch [247/250], Avg accuracy: 73.7833, Validation accuracy: 72.07%\n",
            "Epoch [248/250], Avg accuracy: 74.0167, Validation accuracy: 73.19%\n",
            "Epoch [249/250], Avg accuracy: 75.0833, Validation accuracy: 72.87%\n",
            "Epoch [250/250], Avg accuracy: 75.1167, Validation accuracy: 73.24%\n"
          ]
        },
        {
          "output_type": "execute_result",
          "data": {
            "text/plain": [
              "<All keys matched successfully>"
            ]
          },
          "metadata": {},
          "execution_count": 13
        }
      ]
    },
    {
      "cell_type": "code",
      "source": [
        "import matplotlib.pyplot as plt\n",
        "%matplotlib inline\n",
        "\n",
        "plt.plot(loss_curve)\n",
        "plt.xlabel('Epoch')\n",
        "plt.ylabel('Loss')\n",
        "plt.title('Training Loss')\n",
        "plt.show()"
      ],
      "metadata": {
        "colab": {
          "base_uri": "https://localhost:8080/",
          "height": 472
        },
        "id": "AZ2q9I04-K4W",
        "outputId": "b8d4a8d5-bea3-42f0-fa3f-2c26cc33904c"
      },
      "execution_count": 14,
      "outputs": [
        {
          "output_type": "display_data",
          "data": {
            "text/plain": [
              "<Figure size 640x480 with 1 Axes>"
            ],
            "image/png": "[encoded data removed]"
          },
          "metadata": {}
        }
      ]
    },
    {
      "cell_type": "code",
      "source": [
        "test_dataset = BoneDataset(X_test, y_test, transform = None)\n",
        "test_loader = DataLoader(test_dataset, batch_size=BATCH_SIZE, shuffle=True, drop_last=True)"
      ],
      "metadata": {
        "id": "lVKUuifqgu4C"
      },
      "execution_count": 15,
      "outputs": []
    },
    {
      "cell_type": "markdown",
      "source": [
        "Настало время проверить точность нейронки на тестовых данных"
      ],
      "metadata": {
        "id": "r1b3jeXx9FGX"
      }
    },
    {
      "cell_type": "code",
      "source": [
        "with torch.no_grad():\n",
        "  model.eval()\n",
        "  acc = 0\n",
        "  for i, (inputs, labels) in enumerate(test_loader, 0):\n",
        "    outputs = model(inputs.cuda())\n",
        "    loss = criterion(outputs, labels.cuda().type(torch.float64))\n",
        "    acc += (outputs.round() == labels.cuda()).float().mean()\n",
        "  print(f'Test Accuracy: {acc / (i + 1) * 100}')\n"
      ],
      "metadata": {
        "id": "FI6CW7Dcix_n",
        "colab": {
          "base_uri": "https://localhost:8080/"
        },
        "outputId": "2f503fed-625c-4acb-c78a-01a706e43e36"
      },
      "execution_count": 43,
      "outputs": [
        {
          "output_type": "stream",
          "name": "stdout",
          "text": [
            "Test Accuracy: 74.39189910888672\n"
          ]
        }
      ]
    },
    {
      "cell_type": "code",
      "source": [
        "#from sklearn.metrics import confusion_matrix, ConfusionMatrixDisplay\n",
        "%pip install torcheval\n",
        "from torcheval.metrics import BinaryConfusionMatrix\n",
        "\n",
        "metric = BinaryConfusionMatrix()\n",
        "\n",
        "with torch.no_grad():\n",
        "  model.eval()\n",
        "  acc = 0\n",
        "  cm = None\n",
        "  for i, (inputs, labels) in enumerate(test_loader, 0):\n",
        "    outputs = model(inputs.cuda())\n",
        "    metric.update(labels.type(torch.int64), outputs.round().type(torch.int64))\n",
        "print(\"Confusion matrix: \")\n",
        "result = metric.compute()\n",
        "\n",
        "tp, fn = result[0]\n",
        "fp, tn = result[1]\n",
        "\n",
        "print(\"tp:\", tp, \"fn:\", fn)\n",
        "print(\"fp:\", fp, \"tn:\", tn)\n",
        "\n",
        "total = tp + fn + fp + tn\n",
        "\n",
        "precision = tp / (tp + fp)\n",
        "recall = tp / (tp + fn)\n",
        "\n",
        "print(f\"Accuracy: {(tp + tn) / total}\")\n",
        "print(f\"Precision: {precision}\")\n",
        "print(f\"Recall: {recall}\")\n",
        "print(f\"f1 score: {precision * recall / (precision + recall)}\")"
      ],
      "metadata": {
        "colab": {
          "base_uri": "https://localhost:8080/"
        },
        "id": "jwtzgKiTHFu0",
        "outputId": "c40dab31-91fb-4c24-c4a4-a1e1cd24abe5"
      },
      "execution_count": 47,
      "outputs": [
        {
          "output_type": "stream",
          "name": "stdout",
          "text": [
            "Requirement already satisfied: torcheval in /usr/local/lib/python3.10/dist-packages (0.0.7)\n",
            "Requirement already satisfied: typing-extensions in /usr/local/lib/python3.10/dist-packages (from torcheval) (4.12.2)\n",
            "Confusion matrix: \n",
            "tp: tensor(752.) fn: tensor(354.)\n",
            "fp: tensor(11.) tn: tensor(363.)\n",
            "Accuracy: 0.7533783912658691\n",
            "Precision: 0.9855832457542419\n",
            "Recall: 0.6799276471138\n",
            "f1 score: 0.4023542106151581\n"
          ]
        }
      ]
    },
    {
      "cell_type": "markdown",
      "source": [
        "Вывод\n",
        "\n",
        "После первой тренировки нейросети я заметил еще несколько рисков при работе с изображениями:\n",
        "\n",
        "1. Размерность изображения и ориентация в пространстве -> необходимо привести изображения к единому виду, пригодному для обучения\n",
        "2. Не учтены особенности изображений с которомы мы работаем (например симметричность в случае данного датасета)\n",
        "3. Некачественные изображения, которые необходимо убирать руками\n",
        "\n",
        "В ходе работы были обработаны данные для датасета переломов костей, выявлены риски работы с данными. Была разработана нейросеть и обучена на очищенных данных и получены удовлетворительные значения для accuracy, precision & recall"
      ],
      "metadata": {
        "id": "BXqqPoZtKmB-"
      }
    }
  ]
}