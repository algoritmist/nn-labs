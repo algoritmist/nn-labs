{
 "cells": [
  {
   "cell_type": "code",
   "execution_count": 1,
   "metadata": {
    "colab": {
     "base_uri": "https://localhost:8080/"
    },
    "id": "uOtFFryk85vq",
    "outputId": "49002bd9-4b05-495e-83db-4de1c371ca6d"
   },
   "outputs": [
    {
     "name": "stdout",
     "output_type": "stream",
     "text": [
      "['C:\\\\Users\\\\Илья\\\\Documents\\\\Slava\\\\tnsv\\\\lab2\\\\dataset\\\\training\\\\fractured', 'C:\\\\Users\\\\Илья\\\\Documents\\\\Slava\\\\tnsv\\\\lab2\\\\dataset\\\\training\\\\not_fractured', 'C:\\\\Users\\\\Илья\\\\Documents\\\\Slava\\\\tnsv\\\\lab2\\\\dataset\\\\testing\\\\fractured', 'C:\\\\Users\\\\Илья\\\\Documents\\\\Slava\\\\tnsv\\\\lab2\\\\dataset\\\\testing\\\\not_fractured']\n"
     ]
    }
   ],
   "source": [
    "import os\n",
    "path_xray = os.getcwd() + \"\\\\dataset\"\n",
    "\n",
    "path_train = path_xray + \"\\\\training\"\n",
    "path_train_fractured = path_train + \"\\\\fractured\"\n",
    "path_train_not_fractured = path_train + \"\\\\not_fractured\"\n",
    "\n",
    "path_test = path_xray + \"\\\\testing\"\n",
    "path_test_fractured = path_test + \"\\\\fractured\"\n",
    "path_test_not_fractured = path_test + \"\\\\not_fractured\"\n",
    "\n",
    "image_location_paths = [path_train_fractured, path_train_not_fractured,\n",
    "                        path_test_fractured, path_test_not_fractured]\n",
    "image_train_location_paths = [path_train_fractured, path_train_not_fractured]\n",
    "image_test_location_paths = [path_test_fractured, path_test_not_fractured]\n",
    "print(image_location_paths)"
   ]
  },
  {
   "cell_type": "markdown",
   "metadata": {
    "id": "4TplAAkZy-n2"
   },
   "source": [
    "Посмотрим репрезентативность обучающей выборки"
   ]
  },
  {
   "cell_type": "code",
   "execution_count": 3,
   "metadata": {
    "colab": {
     "base_uri": "https://localhost:8080/"
    },
    "id": "a3qyOSgSy9zR",
    "outputId": "2958a13a-2e0a-4a0f-a71b-4fbcf7871e00"
   },
   "outputs": [
    {
     "name": "stdout",
     "output_type": "stream",
     "text": [
      "178\n",
      "Image C:\\Users\\Илья\\Documents\\Slava\\tnsv\\lab2\\dataset\\training\\fractured\\10: samples 40\n",
      "Image C:\\Users\\Илья\\Documents\\Slava\\tnsv\\lab2\\dataset\\training\\fractured\\100: samples 40\n",
      "Image C:\\Users\\Илья\\Documents\\Slava\\tnsv\\lab2\\dataset\\training\\fractured\\101: samples 40\n",
      "Image C:\\Users\\Илья\\Documents\\Slava\\tnsv\\lab2\\dataset\\training\\fractured\\102: samples 40\n",
      "Image C:\\Users\\Илья\\Documents\\Slava\\tnsv\\lab2\\dataset\\training\\fractured\\103: samples 40\n",
      "Image C:\\Users\\Илья\\Documents\\Slava\\tnsv\\lab2\\dataset\\training\\fractured\\104: samples 40\n",
      "Image C:\\Users\\Илья\\Documents\\Slava\\tnsv\\lab2\\dataset\\training\\fractured\\105: samples 40\n",
      "Image C:\\Users\\Илья\\Documents\\Slava\\tnsv\\lab2\\dataset\\training\\fractured\\106: samples 40\n",
      "Image C:\\Users\\Илья\\Documents\\Slava\\tnsv\\lab2\\dataset\\training\\fractured\\107: samples 40\n",
      "Image C:\\Users\\Илья\\Documents\\Slava\\tnsv\\lab2\\dataset\\training\\fractured\\108: samples 40\n"
     ]
    }
   ],
   "source": [
    "import os\n",
    "def group_images(image_paths):\n",
    "\n",
    "  grouped_imgs = dict()\n",
    "\n",
    "  for path in image_paths:\n",
    "    key = \"\\\\\".join(path.split(\"\\\\\")[:-1]) + \"\\\\\" + path.split(\"\\\\\")[-1].split(\".\")[0].split(\"-\")[0]\n",
    "    if key not in grouped_imgs:\n",
    "      grouped_imgs[key] = []\n",
    "    grouped_imgs[key].append(path)\n",
    "\n",
    "  return grouped_imgs\n",
    "\n",
    "images_paths = []\n",
    "\n",
    "for path in image_train_location_paths:\n",
    "  for dirname, _, filenames in os.walk(path):\n",
    "    for filename in filenames:\n",
    "      full_path = os.path.join(dirname, filename)\n",
    "      images_paths.append(full_path)\n",
    "\n",
    "images = group_images(images_paths)\n",
    "print(len(images))\n",
    "for (key, value) in list(images.items())[:10]:\n",
    "  print(f\"Image {key}: samples {len(value)}\")"
   ]
  },
  {
   "cell_type": "code",
   "execution_count": 4,
   "metadata": {
    "colab": {
     "base_uri": "https://localhost:8080/",
     "height": 449
    },
    "id": "p1XfLrb_yYQR",
    "outputId": "056bc07d-43f5-410c-8560-b8ac57ee698a"
   },
   "outputs": [
    {
     "data": {
      "image/png": "[encoded data removed]",
      "text/plain": [
       "<Figure size 640x480 with 1 Axes>"
      ]
     },
     "metadata": {},
     "output_type": "display_data"
    }
   ],
   "source": [
    "import matplotlib.pyplot as plt\n",
    "%matplotlib inline\n",
    "\n",
    "img_samples_dict = dict()\n",
    "for key, value in images.items():\n",
    "    if len(value) not in img_samples_dict:\n",
    "        img_samples_dict[len(value)] = []\n",
    "    img_samples_dict[len(value)].append(key)\n",
    "\n",
    "fig, ax = plt.subplots()\n",
    "ax.set_xlabel(\"Number of images\")\n",
    "ax.set_ylabel(\"Number of groups\")\n",
    "\n",
    "ax.bar(img_samples_dict.keys(),\n",
    "       list(map(lambda x: len(x), img_samples_dict.values())))\n",
    "plt.show()"
   ]
  },
  {
   "cell_type": "code",
   "execution_count": 5,
   "metadata": {
    "colab": {
     "base_uri": "https://localhost:8080/"
    },
    "id": "FI-Hfbi80-j1",
    "outputId": "40d80440-7365-4ba1-ce36-75b038d28f4f"
   },
   "outputs": [
    {
     "name": "stdout",
     "output_type": "stream",
     "text": [
      "Mean: 45.0\n",
      "Std: 16.30950643030009\n",
      "Cov: 0.3624334762288909\n"
     ]
    }
   ],
   "source": [
    "import numpy as np\n",
    "train_mean = np.mean(list(img_samples_dict.keys()))\n",
    "train_std = np.std(list(img_samples_dict.keys()))\n",
    "train_v = train_std / train_mean\n",
    "\n",
    "print(f\"Mean: {train_mean}\")\n",
    "print(f\"Std: {train_std}\")\n",
    "print(f\"Cov: {train_v}\")"
   ]
  },
  {
   "cell_type": "markdown",
   "metadata": {
    "id": "oiNZr0s2yOHJ"
   },
   "source": [
    "Посмотрим, можем ли мы лучше разделить train & test вручную"
   ]
  },
  {
   "cell_type": "code",
   "execution_count": 7,
   "metadata": {
    "colab": {
     "base_uri": "https://localhost:8080/"
    },
    "id": "Wu7ImLFac6cT",
    "outputId": "4bb31e14-b023-4838-cda4-f9f618ba8e2e"
   },
   "outputs": [
    {
     "name": "stdout",
     "output_type": "stream",
     "text": [
      "191\n",
      "Image C:\\Users\\Илья\\Documents\\Slava\\tnsv\\lab2\\dataset\\training\\fractured\\10: samples 40\n",
      "Image C:\\Users\\Илья\\Documents\\Slava\\tnsv\\lab2\\dataset\\training\\fractured\\100: samples 40\n",
      "Image C:\\Users\\Илья\\Documents\\Slava\\tnsv\\lab2\\dataset\\training\\fractured\\101: samples 40\n",
      "Image C:\\Users\\Илья\\Documents\\Slava\\tnsv\\lab2\\dataset\\training\\fractured\\102: samples 40\n",
      "Image C:\\Users\\Илья\\Documents\\Slava\\tnsv\\lab2\\dataset\\training\\fractured\\103: samples 40\n",
      "Image C:\\Users\\Илья\\Documents\\Slava\\tnsv\\lab2\\dataset\\training\\fractured\\104: samples 40\n",
      "Image C:\\Users\\Илья\\Documents\\Slava\\tnsv\\lab2\\dataset\\training\\fractured\\105: samples 40\n",
      "Image C:\\Users\\Илья\\Documents\\Slava\\tnsv\\lab2\\dataset\\training\\fractured\\106: samples 40\n",
      "Image C:\\Users\\Илья\\Documents\\Slava\\tnsv\\lab2\\dataset\\training\\fractured\\107: samples 40\n",
      "Image C:\\Users\\Илья\\Documents\\Slava\\tnsv\\lab2\\dataset\\training\\fractured\\108: samples 40\n"
     ]
    }
   ],
   "source": [
    "from itertools import groupby\n",
    "import os\n",
    "\n",
    "def group_images(image_paths):\n",
    "\n",
    "    grouped_imgs = dict()\n",
    "\n",
    "    for path in image_paths:\n",
    "        key = \"\\\\\".join(path.split(\"\\\\\")[:-1]) + \"\\\\\" + path.split(\"\\\\\")[-1].split(\".\")[0].split(\"-\")[0]\n",
    "        if key not in grouped_imgs:\n",
    "            grouped_imgs[key] = []\n",
    "        grouped_imgs[key].append(path)\n",
    "\n",
    "    return grouped_imgs\n",
    "\n",
    "images_paths = []\n",
    "\n",
    "for path in image_location_paths:\n",
    "    for dirname, _, filenames in os.walk(path):\n",
    "        for filename in filenames:\n",
    "            full_path = os.path.join(dirname, filename)\n",
    "            images_paths.append(full_path)\n",
    "\n",
    "images = group_images(images_paths)\n",
    "print(len(images))\n",
    "for key, value in list(images.items())[:10]:\n",
    "    print(f\"Image {key}: samples {len(value)}\")"
   ]
  },
  {
   "cell_type": "code",
   "execution_count": 8,
   "metadata": {
    "colab": {
     "base_uri": "https://localhost:8080/",
     "height": 518
    },
    "id": "qailp8vEpiB-",
    "outputId": "f588c5d6-b086-4bef-f30d-8b2b04b5f063"
   },
   "outputs": [
    {
     "name": "stdout",
     "output_type": "stream",
     "text": [
      "Key: 40, value: 121\n",
      "Key: 67, value: 68\n",
      "Key: 28, value: 1\n",
      "Key: 39, value: 1\n"
     ]
    },
    {
     "data": {
      "image/png": "[encoded data removed]",
      "text/plain": [
       "<Figure size 640x480 with 1 Axes>"
      ]
     },
     "metadata": {},
     "output_type": "display_data"
    }
   ],
   "source": [
    "import matplotlib.pyplot as plt\n",
    "%matplotlib inline\n",
    "\n",
    "img_samples_dict = dict()\n",
    "for key, value in images.items():\n",
    "    if len(value) not in img_samples_dict:\n",
    "        img_samples_dict[len(value)] = []\n",
    "    img_samples_dict[len(value)].append(key)\n",
    "\n",
    "fig, ax = plt.subplots()\n",
    "ax.set_xlabel(\"Number of images\")\n",
    "ax.set_ylabel(\"Number of groups\")\n",
    "\n",
    "for key, value in img_samples_dict.items():\n",
    "    print(f\"Key: {key}, value: {len(value)}\")\n",
    "\n",
    "ax.bar(img_samples_dict.keys(),\n",
    "       list(map(lambda x: len(x), img_samples_dict.values())))\n",
    "plt.show()"
   ]
  },
  {
   "cell_type": "code",
   "execution_count": 9,
   "metadata": {
    "colab": {
     "base_uri": "https://localhost:8080/"
    },
    "id": "FKfAqHm9zzNO",
    "outputId": "26f66422-6bae-43c5-9ff4-e5177c6c1ed8"
   },
   "outputs": [
    {
     "name": "stdout",
     "output_type": "stream",
     "text": [
      "Mean: 43.5\n",
      "Std: 14.361406616345072\n",
      "Cov: 0.3301472785366683\n"
     ]
    }
   ],
   "source": [
    "train_mean = np.mean(list(img_samples_dict.keys()))\n",
    "train_std = np.std(list(img_samples_dict.keys()))\n",
    "train_v = train_std / train_mean\n",
    "\n",
    "print(f\"Mean: {train_mean}\")\n",
    "print(f\"Std: {train_std}\")\n",
    "print(f\"Cov: {train_v}\")"
   ]
  },
  {
   "cell_type": "markdown",
   "metadata": {
    "id": "xD_lT1M93xQU"
   },
   "source": [
    "Видим, что результат сильно не улучшился. В датасете присутсвуют аномалии, 28 и 39 изображений для одного пациента. Поскольку 39 близко к матожиданию, оставим эти изображения, а 28 изображений перенесем в валидацию, т.к их скорее всего будут нерепрезентативными для обучения на ранних стадиях. Набор на 67 и 68 изображений обрежем до 40"
   ]
  },
  {
   "cell_type": "code",
   "execution_count": 11,
   "metadata": {
    "id": "sAVoC_O6RUGR"
   },
   "outputs": [],
   "source": [
    "images_filtered = []\n",
    "for k, v in images.items():\n",
    "    if len(v) <= 28:\n",
    "        continue\n",
    "    new_v = v[0:40] if len(v) > 40 else v\n",
    "    new_v = v\n",
    "    images_filtered.append(new_v)\n",
    "images_filtered = [item for imgs in images_filtered for item in imgs]"
   ]
  },
  {
   "cell_type": "markdown",
   "metadata": {
    "id": "Ef0_2XxboUNP"
   },
   "source": [
    "Разобъем выборку на train, val, test"
   ]
  },
  {
   "cell_type": "markdown",
   "metadata": {
    "id": "XVXD8ouDChGt"
   },
   "source": [
    "В результате исследования были выявлены потенциальные риски:\n",
    "1. Некачественные данные: малое или большое количество снимков -> смотрим на распределение и отсеиваем выбросы\n",
    "2. Риск переобучения -> создаем валидационную выборку\n",
    "3. Неправильная пометка данных (в train и test номера пациентов совпадают) -> вводим дополнительную метку для изначально предоставленного набора данных\n",
    "Вывод:\n",
    "В ходе работы я описал и устранил возможные риски при использовании данных с помощью анализа исходной выборки, подготовил данные и сделал разделение на тренировочную, валидационную и тестовую выборки"
   ]
  },
  {
   "cell_type": "markdown",
   "metadata": {
    "id": "EEa9u9pz4mz0"
   },
   "source": [
    "## Часть 2. Обучение модели\n",
    "\n",
    "После 1-го обучения модели я получил точность порядка 50% на тестовых данных, что не очень меня впечатлило. Я решил еще раз взглянуть на изображения и понял, что почти все из них повернуты на ~20 градусов и фильтры нейронки просто не обучаются на \"пустых областях\". Дополнительно поворот на 90 градусов позволяет обрабатывать случаи симметричности (изображения повернуты в разные стороны в зависимости от того левая конечность или правая), как вариант можно было даже сгенерировать симметричные изображения, но колаб очень долго всё грузит  "
   ]
  },
  {
   "cell_type": "code",
   "execution_count": 15,
   "metadata": {
    "id": "3RCkFomWoZcV"
   },
   "outputs": [],
   "source": [
    "from sklearn.model_selection import train_test_split\n",
    "import shutil\n",
    "from PIL import Image\n",
    "\n",
    "val_size = 0.2\n",
    "test_size = 0.2\n",
    "random_state = 42\n",
    "\n",
    "train_images, val_images = train_test_split(images_filtered, test_size=val_size, random_state=random_state)\n",
    "train_images, test_images = train_test_split(train_images, test_size=test_size, random_state=random_state)"
   ]
  },
  {
   "cell_type": "code",
   "execution_count": null,
   "metadata": {
    "id": "em28EOzxSkdw"
   },
   "outputs": [],
   "source": []
  },
  {
   "cell_type": "markdown",
   "metadata": {
    "id": "YJ5IIkaD6r4L"
   },
   "source": [
    "После разделения на train, val, test выборки также сожмем изображения до 224*224 (изображения такого вида будет принимать на вход наша нейросеть)"
   ]
  },
  {
   "cell_type": "code",
   "execution_count": 17,
   "metadata": {
    "id": "D6wMLibl4vFZ"
   },
   "outputs": [
    {
     "name": "stdout",
     "output_type": "stream",
     "text": [
      "C:\\Users\\Илья\\Documents\\Slava\\tnsv\\lab2\\dataset\\training\\not_fractured\\50-rotated2-rotated3-rotated2.jpg\n"
     ]
    }
   ],
   "source": [
    "X_train = train_images\n",
    "print(X_train[0])\n",
    "y_train = list(map(lambda path: 0 if \"not_fractured\" in path else 1, X_train))\n",
    "\n",
    "X_val = train_images\n",
    "y_val = list(map(lambda path: 0 if \"not_fractured\" in path else 1, X_val))\n",
    "\n",
    "X_test = test_images\n",
    "y_test = list(map(lambda path: 0 if \"not_fractured\" in path else 1, X_test))"
   ]
  },
  {
   "cell_type": "code",
   "execution_count": 18,
   "metadata": {
    "colab": {
     "base_uri": "https://localhost:8080/"
    },
    "id": "mvLpcqHPXXqQ",
    "outputId": "7f60209f-10b9-4cf8-95f4-da2f3fd1585f"
   },
   "outputs": [
    {
     "data": {
      "text/plain": [
       "True"
      ]
     },
     "execution_count": 18,
     "metadata": {},
     "output_type": "execute_result"
    }
   ],
   "source": [
    "import torch\n",
    "torch.cuda.is_available()"
   ]
  },
  {
   "cell_type": "code",
   "execution_count": 19,
   "metadata": {},
   "outputs": [
    {
     "name": "stdout",
     "output_type": "stream",
     "text": [
      "Requirement already satisfied: torchvision in c:\\anaconda\\lib\\site-packages (0.20.1)\n",
      "Requirement already satisfied: numpy in c:\\anaconda\\lib\\site-packages (from torchvision) (1.26.4)\n",
      "Requirement already satisfied: torch==2.5.1 in c:\\anaconda\\lib\\site-packages (from torchvision) (2.5.1)\n",
      "Requirement already satisfied: pillow!=8.3.*,>=5.3.0 in c:\\anaconda\\lib\\site-packages (from torchvision) (10.4.0)\n",
      "Requirement already satisfied: filelock in c:\\anaconda\\lib\\site-packages (from torch==2.5.1->torchvision) (3.13.1)\n",
      "Requirement already satisfied: typing-extensions>=4.8.0 in c:\\anaconda\\lib\\site-packages (from torch==2.5.1->torchvision) (4.11.0)\n",
      "Requirement already satisfied: setuptools in c:\\anaconda\\lib\\site-packages (from torch==2.5.1->torchvision) (75.1.0)\n",
      "Requirement already satisfied: sympy==1.13.1 in c:\\anaconda\\lib\\site-packages (from torch==2.5.1->torchvision) (1.13.1)\n",
      "Requirement already satisfied: networkx in c:\\anaconda\\lib\\site-packages (from torch==2.5.1->torchvision) (3.3)\n",
      "Requirement already satisfied: jinja2 in c:\\anaconda\\lib\\site-packages (from torch==2.5.1->torchvision) (3.1.4)\n",
      "Requirement already satisfied: fsspec in c:\\anaconda\\lib\\site-packages (from torch==2.5.1->torchvision) (2024.6.1)\n",
      "Requirement already satisfied: mpmath<1.4,>=1.1.0 in c:\\anaconda\\lib\\site-packages (from sympy==1.13.1->torch==2.5.1->torchvision) (1.3.0)\n",
      "Requirement already satisfied: MarkupSafe>=2.0 in c:\\anaconda\\lib\\site-packages (from jinja2->torch==2.5.1->torchvision) (2.1.3)\n",
      "Note: you may need to restart the kernel to use updated packages.\n"
     ]
    }
   ],
   "source": [
    "%pip install torchvision"
   ]
  },
  {
   "cell_type": "markdown",
   "metadata": {
    "id": "8jeW8dRA7IHr"
   },
   "source": [
    "Напишем свою нейросеть используя pytorch модули и датасеты (можно было взять готовую нейронку по типу AlexNet или LeNet, но я поздно сообразил)\n",
    "\n",
    "Архитектура нейросети:\n",
    "\n",
    "1. Image Bath \\[40, 224, 224\\] -> Conv1: kernel 3x3, stride = 1, padding = 0\n",
    "2. Conv1 -> FC1 : kernel 2x2, stride = 2, padding = 0 (уменьшаем размерность изображения в 4 раза)\n",
    "3. FC1 -> Conv2: kernel 3x3, stide = 1, padding = 0 (ищем новые паттерны)\n",
    "4. Conv2 -> FC2: kernel 3x3, stride = 2, padding = 1 (снова уменьшаем размерность)\n",
    "\n",
    "Применив сигмойду к FC2 получим бинарную классивикацию изображения на наличие переломов"
   ]
  },
  {
   "cell_type": "code",
   "execution_count": 21,
   "metadata": {
    "id": "H7rFPTW-QH2R"
   },
   "outputs": [],
   "source": [
    "import torch\n",
    "import torch.nn as nn\n",
    "import torch.optim as optim\n",
    "from torch.utils.data import DataLoader, Dataset\n",
    "import torchvision.transforms as transforms\n",
    "from torchvision import datasets\n",
    "import numpy as np\n",
    "from sklearn.model_selection import train_test_split\n",
    "import copy\n",
    "\n",
    "class BoneClassifier(nn.Module):\n",
    "    def __init__(self):\n",
    "        super(BoneClassifier, self).__init__()\n",
    "        #self.norm1 = nn.BatchNorm1d(224)\n",
    "        self.conv1 = nn.Conv2d(40, 40, kernel_size=3, stride=1, padding=0)\n",
    "        self.conv2 = nn.Conv2d(40, 40, kernel_size=3, stride=1, padding=0)\n",
    "        self.fc1 = nn.Linear(55 * 55, 28)\n",
    "        self.fc2 = nn.Linear(28, 1)  # Binary classification\n",
    "\n",
    "    def forward(self, x):\n",
    "      #x = self.norm1(x)\n",
    "        x = nn.ReLU()(self.conv1(x))\n",
    "      #print(x.shape)\n",
    "        x = nn.MaxPool2d(kernel_size=2, stride=2, padding=0)(x)\n",
    "      #print(x.shape)\n",
    "        x = nn.ReLU()(self.conv2(x))\n",
    "      #print(x.shape)\n",
    "        x = nn.MaxPool2d(kernel_size=3, stride=2, padding=1)(x)\n",
    "      #print(x.shape)\n",
    "        x = x.view(-1, self.num_flat_features(x))  # Flatten the tensor\n",
    "        x = nn.ReLU()(self.fc1(x))\n",
    "        x = torch.sigmoid(self.fc2(x))  # Sigmoid for binary classification\n",
    "        return x.flatten().type(torch.float64)\n",
    "    def num_flat_features(self, x):\n",
    "        size = x.size()[1:]  # all dimensions except the batch dimension\n",
    "        num_features = 1\n",
    "        for s in size:\n",
    "            num_features *= s\n",
    "        return num_features\n",
    "\n",
    "# Custom Dataset\n",
    "class BoneDataset(Dataset):\n",
    "    def __init__(self, images, labels, transform=None):\n",
    "        self.images = images\n",
    "        self.labels = labels\n",
    "        self.transform = transform\n",
    "\n",
    "    def __len__(self):\n",
    "        return len(self.images)\n",
    "\n",
    "    def __getitem__(self, idx):\n",
    "        image = Image.open(self.images[idx])\n",
    "        label = self.labels[idx]\n",
    "        if self.transform:\n",
    "            image = self.transform(image)\n",
    "        return image, label\n",
    "\n",
    "transform = lambda img: torch.FloatTensor(\n",
    "    np.array(img\n",
    "             .rotate(20)\n",
    "             .transpose(Image.FLIP_LEFT_RIGHT)\n",
    "             .convert('L')\n",
    "             .resize((224, 224))\n",
    "            )\n",
    "    )\n",
    "\n",
    "# Create datasets\n",
    "train_dataset = BoneDataset(X_train, y_train, transform=transform)\n",
    "val_dataset = BoneDataset(X_val, y_val, transform=transform)\n",
    "\n",
    "BATCH_SIZE = 40\n",
    "\n",
    "# Create DataLoader\n",
    "train_loader = DataLoader(train_dataset, batch_size=BATCH_SIZE, shuffle=True, drop_last=True, pin_memory=True)\n",
    "val_loader = DataLoader(val_dataset, batch_size=BATCH_SIZE, shuffle=False, drop_last=True, pin_memory=True)\n"
   ]
  },
  {
   "cell_type": "code",
   "execution_count": 22,
   "metadata": {
    "colab": {
     "base_uri": "https://localhost:8080/"
    },
    "id": "2BxBXG-T266u",
    "outputId": "d8526efa-ac00-43d7-8076-94fd358f75fe"
   },
   "outputs": [
    {
     "name": "stdout",
     "output_type": "stream",
     "text": [
      "Epoch [1/250], Avg accuracy: 49.1667, Validation accuracy: 50.45%\n",
      "Finished in 23.8353 seconds\n",
      "Epoch [2/250], Avg accuracy: 50.0500, Validation accuracy: 50.10%\n",
      "Finished in 23.6498 seconds\n",
      "Epoch [3/250], Avg accuracy: 51.0500, Validation accuracy: 49.73%\n",
      "Finished in 24.3998 seconds\n",
      "Epoch [4/250], Avg accuracy: 49.6667, Validation accuracy: 50.07%\n",
      "Finished in 24.0467 seconds\n",
      "Epoch [5/250], Avg accuracy: 50.4833, Validation accuracy: 51.52%\n",
      "Finished in 24.0338 seconds\n",
      "Epoch [6/250], Avg accuracy: 49.5000, Validation accuracy: 50.80%\n",
      "Finished in 24.0048 seconds\n",
      "Epoch [7/250], Avg accuracy: 49.8167, Validation accuracy: 51.02%\n",
      "Finished in 24.3908 seconds\n",
      "Epoch [8/250], Avg accuracy: 49.2833, Validation accuracy: 51.18%\n",
      "Finished in 23.8852 seconds\n",
      "Epoch [9/250], Avg accuracy: 50.0833, Validation accuracy: 50.80%\n",
      "Finished in 23.7026 seconds\n",
      "Epoch [10/250], Avg accuracy: 49.5500, Validation accuracy: 50.97%\n",
      "Finished in 23.7126 seconds\n",
      "Epoch [11/250], Avg accuracy: 50.7500, Validation accuracy: 51.03%\n",
      "Finished in 24.0188 seconds\n",
      "Epoch [12/250], Avg accuracy: 49.6000, Validation accuracy: 51.32%\n",
      "Finished in 23.5082 seconds\n",
      "Epoch [13/250], Avg accuracy: 50.0500, Validation accuracy: 51.47%\n",
      "Finished in 24.3090 seconds\n",
      "Epoch [14/250], Avg accuracy: 49.2667, Validation accuracy: 50.58%\n",
      "Finished in 23.6448 seconds\n",
      "Epoch [15/250], Avg accuracy: 49.6000, Validation accuracy: 50.97%\n",
      "Finished in 24.1096 seconds\n",
      "Epoch [16/250], Avg accuracy: 49.3667, Validation accuracy: 51.53%\n",
      "Finished in 24.1096 seconds\n",
      "Epoch [17/250], Avg accuracy: 50.3000, Validation accuracy: 51.18%\n",
      "Finished in 23.8243 seconds\n",
      "Epoch [18/250], Avg accuracy: 49.5333, Validation accuracy: 51.45%\n",
      "Finished in 23.8453 seconds\n",
      "Epoch [19/250], Avg accuracy: 51.2500, Validation accuracy: 50.12%\n",
      "Finished in 23.4533 seconds\n",
      "Epoch [20/250], Avg accuracy: 50.5667, Validation accuracy: 50.17%\n",
      "Finished in 23.9739 seconds\n",
      "Epoch [21/250], Avg accuracy: 51.0333, Validation accuracy: 51.98%\n",
      "Finished in 23.6518 seconds\n",
      "Epoch [22/250], Avg accuracy: 48.9000, Validation accuracy: 51.63%\n",
      "Finished in 23.9998 seconds\n",
      "Epoch [23/250], Avg accuracy: 50.1833, Validation accuracy: 51.77%\n",
      "Finished in 24.1913 seconds\n",
      "Epoch [24/250], Avg accuracy: 51.0667, Validation accuracy: 51.32%\n",
      "Finished in 23.5810 seconds\n",
      "Epoch [25/250], Avg accuracy: 52.7167, Validation accuracy: 51.83%\n",
      "Finished in 23.5712 seconds\n",
      "Epoch [26/250], Avg accuracy: 51.1000, Validation accuracy: 52.27%\n",
      "Finished in 23.7316 seconds\n",
      "Epoch [27/250], Avg accuracy: 53.1333, Validation accuracy: 53.17%\n",
      "Finished in 23.7874 seconds\n",
      "Epoch [28/250], Avg accuracy: 51.5500, Validation accuracy: 52.67%\n",
      "Finished in 23.6797 seconds\n",
      "Epoch [29/250], Avg accuracy: 52.1333, Validation accuracy: 53.32%\n",
      "Finished in 24.0956 seconds\n",
      "Epoch [30/250], Avg accuracy: 51.9167, Validation accuracy: 53.10%\n",
      "Finished in 23.7764 seconds\n",
      "Epoch [31/250], Avg accuracy: 51.2333, Validation accuracy: 53.02%\n",
      "Finished in 24.2103 seconds\n",
      "Epoch [32/250], Avg accuracy: 53.1667, Validation accuracy: 53.43%\n",
      "Finished in 23.8931 seconds\n",
      "Epoch [33/250], Avg accuracy: 53.0833, Validation accuracy: 53.63%\n",
      "Finished in 24.0118 seconds\n",
      "Epoch [34/250], Avg accuracy: 54.3667, Validation accuracy: 53.72%\n",
      "Finished in 23.9899 seconds\n",
      "Epoch [35/250], Avg accuracy: 53.2167, Validation accuracy: 54.48%\n",
      "Finished in 23.8273 seconds\n",
      "Epoch [36/250], Avg accuracy: 54.3333, Validation accuracy: 54.00%\n",
      "Finished in 23.6847 seconds\n",
      "Epoch [37/250], Avg accuracy: 53.9500, Validation accuracy: 54.77%\n",
      "Finished in 23.8772 seconds\n",
      "Epoch [38/250], Avg accuracy: 54.3666, Validation accuracy: 55.40%\n",
      "Finished in 23.6588 seconds\n",
      "Epoch [39/250], Avg accuracy: 56.1333, Validation accuracy: 56.30%\n",
      "Finished in 24.1395 seconds\n",
      "Epoch [40/250], Avg accuracy: 57.0500, Validation accuracy: 55.68%\n",
      "Finished in 23.6647 seconds\n",
      "Epoch [41/250], Avg accuracy: 56.6000, Validation accuracy: 57.28%\n",
      "Finished in 23.7016 seconds\n",
      "Epoch [42/250], Avg accuracy: 57.7667, Validation accuracy: 57.22%\n",
      "Finished in 23.4603 seconds\n",
      "Epoch [43/250], Avg accuracy: 59.0500, Validation accuracy: 59.73%\n",
      "Finished in 23.9859 seconds\n",
      "Epoch [44/250], Avg accuracy: 60.3667, Validation accuracy: 60.35%\n",
      "Finished in 24.0557 seconds\n",
      "Epoch [45/250], Avg accuracy: 61.3167, Validation accuracy: 62.05%\n",
      "Finished in 23.9101 seconds\n",
      "Epoch [46/250], Avg accuracy: 64.2167, Validation accuracy: 63.97%\n",
      "Finished in 23.8682 seconds\n",
      "Epoch [47/250], Avg accuracy: 64.2167, Validation accuracy: 65.88%\n",
      "Finished in 23.9560 seconds\n",
      "Epoch [48/250], Avg accuracy: 65.0167, Validation accuracy: 67.08%\n",
      "Finished in 23.6189 seconds\n",
      "Epoch [49/250], Avg accuracy: 67.4000, Validation accuracy: 68.40%\n",
      "Finished in 24.3968 seconds\n",
      "Epoch [50/250], Avg accuracy: 69.1667, Validation accuracy: 70.53%\n",
      "Finished in 24.0349 seconds\n",
      "Epoch [51/250], Avg accuracy: 70.7666, Validation accuracy: 71.78%\n",
      "Finished in 23.9390 seconds\n",
      "Epoch [52/250], Avg accuracy: 72.6500, Validation accuracy: 72.97%\n",
      "Finished in 24.4247 seconds\n",
      "Epoch [53/250], Avg accuracy: 72.6167, Validation accuracy: 73.93%\n",
      "Finished in 24.5244 seconds\n",
      "Epoch [54/250], Avg accuracy: 75.2500, Validation accuracy: 76.42%\n",
      "Finished in 24.7309 seconds\n",
      "Epoch [55/250], Avg accuracy: 75.9834, Validation accuracy: 77.03%\n",
      "Finished in 25.1538 seconds\n",
      "Epoch [56/250], Avg accuracy: 77.3667, Validation accuracy: 78.33%\n",
      "Finished in 24.1026 seconds\n",
      "Epoch [57/250], Avg accuracy: 78.8333, Validation accuracy: 79.38%\n",
      "Finished in 24.2821 seconds\n",
      "Epoch [58/250], Avg accuracy: 79.1667, Validation accuracy: 80.62%\n",
      "Finished in 24.3010 seconds\n",
      "Epoch [59/250], Avg accuracy: 80.1500, Validation accuracy: 80.05%\n",
      "Finished in 24.4546 seconds\n",
      "Epoch [60/250], Avg accuracy: 80.9333, Validation accuracy: 82.42%\n",
      "Finished in 24.5185 seconds\n",
      "Epoch [61/250], Avg accuracy: 81.8333, Validation accuracy: 82.92%\n",
      "Finished in 24.0098 seconds\n",
      "Epoch [62/250], Avg accuracy: 81.7667, Validation accuracy: 82.27%\n",
      "Finished in 23.9091 seconds\n",
      "Epoch [63/250], Avg accuracy: 83.7666, Validation accuracy: 83.73%\n",
      "Finished in 24.3689 seconds\n",
      "Epoch [64/250], Avg accuracy: 83.5333, Validation accuracy: 83.83%\n",
      "Finished in 26.2788 seconds\n",
      "Epoch [65/250], Avg accuracy: 84.5833, Validation accuracy: 83.85%\n",
      "Finished in 26.3715 seconds\n",
      "Epoch [66/250], Avg accuracy: 83.6500, Validation accuracy: 83.75%\n",
      "Finished in 26.3246 seconds\n",
      "Epoch [67/250], Avg accuracy: 83.7000, Validation accuracy: 85.07%\n",
      "Finished in 26.0424 seconds\n",
      "Epoch [68/250], Avg accuracy: 84.7500, Validation accuracy: 85.37%\n",
      "Finished in 25.6544 seconds\n",
      "Epoch [69/250], Avg accuracy: 85.0833, Validation accuracy: 85.17%\n",
      "Finished in 23.7984 seconds\n",
      "Epoch [70/250], Avg accuracy: 85.4000, Validation accuracy: 85.10%\n",
      "Finished in 23.9340 seconds\n",
      "Epoch [71/250], Avg accuracy: 85.8500, Validation accuracy: 85.88%\n",
      "Finished in 23.6358 seconds\n",
      "Epoch [72/250], Avg accuracy: 85.3333, Validation accuracy: 85.62%\n",
      "Finished in 23.6847 seconds\n",
      "Epoch [73/250], Avg accuracy: 84.2333, Validation accuracy: 86.02%\n",
      "Finished in 23.6707 seconds\n",
      "Epoch [74/250], Avg accuracy: 86.0167, Validation accuracy: 85.35%\n",
      "Finished in 24.1086 seconds\n",
      "Epoch [75/250], Avg accuracy: 84.9000, Validation accuracy: 86.62%\n",
      "Finished in 23.8876 seconds\n",
      "Epoch [76/250], Avg accuracy: 85.9333, Validation accuracy: 86.38%\n",
      "Finished in 23.8552 seconds\n",
      "Epoch [77/250], Avg accuracy: 86.3500, Validation accuracy: 85.53%\n",
      "Finished in 24.0786 seconds\n",
      "Epoch [78/250], Avg accuracy: 85.7500, Validation accuracy: 85.88%\n",
      "Finished in 23.9669 seconds\n",
      "Epoch [79/250], Avg accuracy: 85.7500, Validation accuracy: 86.95%\n",
      "Finished in 23.9540 seconds\n",
      "Epoch [80/250], Avg accuracy: 86.4500, Validation accuracy: 86.72%\n",
      "Finished in 23.9789 seconds\n"
     ]
    },
    {
     "ename": "KeyboardInterrupt",
     "evalue": "",
     "output_type": "error",
     "traceback": [
      "\u001b[1;31m---------------------------------------------------------------------------\u001b[0m",
      "\u001b[1;31mKeyboardInterrupt\u001b[0m                         Traceback (most recent call last)",
      "Cell \u001b[1;32mIn[22], line 19\u001b[0m\n\u001b[0;32m     17\u001b[0m batch_loss \u001b[38;5;241m=\u001b[39m \u001b[38;5;241m0.0\u001b[39m\n\u001b[0;32m     18\u001b[0m start_time \u001b[38;5;241m=\u001b[39m time\u001b[38;5;241m.\u001b[39mtime()\n\u001b[1;32m---> 19\u001b[0m \u001b[38;5;28;01mfor\u001b[39;00m i, (inputs, labels) \u001b[38;5;129;01min\u001b[39;00m \u001b[38;5;28menumerate\u001b[39m(train_loader, \u001b[38;5;241m0\u001b[39m):\n\u001b[0;32m     20\u001b[0m     optimizer\u001b[38;5;241m.\u001b[39mzero_grad()\n\u001b[0;32m     21\u001b[0m     outputs \u001b[38;5;241m=\u001b[39m model(inputs)\n",
      "File \u001b[1;32mC:\\anaconda\\Lib\\site-packages\\torch\\utils\\data\\dataloader.py:701\u001b[0m, in \u001b[0;36m_BaseDataLoaderIter.__next__\u001b[1;34m(self)\u001b[0m\n\u001b[0;32m    698\u001b[0m \u001b[38;5;28;01mif\u001b[39;00m \u001b[38;5;28mself\u001b[39m\u001b[38;5;241m.\u001b[39m_sampler_iter \u001b[38;5;129;01mis\u001b[39;00m \u001b[38;5;28;01mNone\u001b[39;00m:\n\u001b[0;32m    699\u001b[0m     \u001b[38;5;66;03m# TODO(https://github.com/pytorch/pytorch/issues/76750)\u001b[39;00m\n\u001b[0;32m    700\u001b[0m     \u001b[38;5;28mself\u001b[39m\u001b[38;5;241m.\u001b[39m_reset()  \u001b[38;5;66;03m# type: ignore[call-arg]\u001b[39;00m\n\u001b[1;32m--> 701\u001b[0m data \u001b[38;5;241m=\u001b[39m \u001b[38;5;28mself\u001b[39m\u001b[38;5;241m.\u001b[39m_next_data()\n\u001b[0;32m    702\u001b[0m \u001b[38;5;28mself\u001b[39m\u001b[38;5;241m.\u001b[39m_num_yielded \u001b[38;5;241m+\u001b[39m\u001b[38;5;241m=\u001b[39m \u001b[38;5;241m1\u001b[39m\n\u001b[0;32m    703\u001b[0m \u001b[38;5;28;01mif\u001b[39;00m (\n\u001b[0;32m    704\u001b[0m     \u001b[38;5;28mself\u001b[39m\u001b[38;5;241m.\u001b[39m_dataset_kind \u001b[38;5;241m==\u001b[39m _DatasetKind\u001b[38;5;241m.\u001b[39mIterable\n\u001b[0;32m    705\u001b[0m     \u001b[38;5;129;01mand\u001b[39;00m \u001b[38;5;28mself\u001b[39m\u001b[38;5;241m.\u001b[39m_IterableDataset_len_called \u001b[38;5;129;01mis\u001b[39;00m \u001b[38;5;129;01mnot\u001b[39;00m \u001b[38;5;28;01mNone\u001b[39;00m\n\u001b[0;32m    706\u001b[0m     \u001b[38;5;129;01mand\u001b[39;00m \u001b[38;5;28mself\u001b[39m\u001b[38;5;241m.\u001b[39m_num_yielded \u001b[38;5;241m>\u001b[39m \u001b[38;5;28mself\u001b[39m\u001b[38;5;241m.\u001b[39m_IterableDataset_len_called\n\u001b[0;32m    707\u001b[0m ):\n",
      "File \u001b[1;32mC:\\anaconda\\Lib\\site-packages\\torch\\utils\\data\\dataloader.py:757\u001b[0m, in \u001b[0;36m_SingleProcessDataLoaderIter._next_data\u001b[1;34m(self)\u001b[0m\n\u001b[0;32m    755\u001b[0m \u001b[38;5;28;01mdef\u001b[39;00m \u001b[38;5;21m_next_data\u001b[39m(\u001b[38;5;28mself\u001b[39m):\n\u001b[0;32m    756\u001b[0m     index \u001b[38;5;241m=\u001b[39m \u001b[38;5;28mself\u001b[39m\u001b[38;5;241m.\u001b[39m_next_index()  \u001b[38;5;66;03m# may raise StopIteration\u001b[39;00m\n\u001b[1;32m--> 757\u001b[0m     data \u001b[38;5;241m=\u001b[39m \u001b[38;5;28mself\u001b[39m\u001b[38;5;241m.\u001b[39m_dataset_fetcher\u001b[38;5;241m.\u001b[39mfetch(index)  \u001b[38;5;66;03m# may raise StopIteration\u001b[39;00m\n\u001b[0;32m    758\u001b[0m     \u001b[38;5;28;01mif\u001b[39;00m \u001b[38;5;28mself\u001b[39m\u001b[38;5;241m.\u001b[39m_pin_memory:\n\u001b[0;32m    759\u001b[0m         data \u001b[38;5;241m=\u001b[39m _utils\u001b[38;5;241m.\u001b[39mpin_memory\u001b[38;5;241m.\u001b[39mpin_memory(data, \u001b[38;5;28mself\u001b[39m\u001b[38;5;241m.\u001b[39m_pin_memory_device)\n",
      "File \u001b[1;32mC:\\anaconda\\Lib\\site-packages\\torch\\utils\\data\\_utils\\fetch.py:52\u001b[0m, in \u001b[0;36m_MapDatasetFetcher.fetch\u001b[1;34m(self, possibly_batched_index)\u001b[0m\n\u001b[0;32m     50\u001b[0m         data \u001b[38;5;241m=\u001b[39m \u001b[38;5;28mself\u001b[39m\u001b[38;5;241m.\u001b[39mdataset\u001b[38;5;241m.\u001b[39m__getitems__(possibly_batched_index)\n\u001b[0;32m     51\u001b[0m     \u001b[38;5;28;01melse\u001b[39;00m:\n\u001b[1;32m---> 52\u001b[0m         data \u001b[38;5;241m=\u001b[39m [\u001b[38;5;28mself\u001b[39m\u001b[38;5;241m.\u001b[39mdataset[idx] \u001b[38;5;28;01mfor\u001b[39;00m idx \u001b[38;5;129;01min\u001b[39;00m possibly_batched_index]\n\u001b[0;32m     53\u001b[0m \u001b[38;5;28;01melse\u001b[39;00m:\n\u001b[0;32m     54\u001b[0m     data \u001b[38;5;241m=\u001b[39m \u001b[38;5;28mself\u001b[39m\u001b[38;5;241m.\u001b[39mdataset[possibly_batched_index]\n",
      "Cell \u001b[1;32mIn[21], line 52\u001b[0m, in \u001b[0;36mBoneDataset.__getitem__\u001b[1;34m(self, idx)\u001b[0m\n\u001b[0;32m     51\u001b[0m \u001b[38;5;28;01mdef\u001b[39;00m \u001b[38;5;21m__getitem__\u001b[39m(\u001b[38;5;28mself\u001b[39m, idx):\n\u001b[1;32m---> 52\u001b[0m     image \u001b[38;5;241m=\u001b[39m Image\u001b[38;5;241m.\u001b[39mopen(\u001b[38;5;28mself\u001b[39m\u001b[38;5;241m.\u001b[39mimages[idx])\n\u001b[0;32m     53\u001b[0m     label \u001b[38;5;241m=\u001b[39m \u001b[38;5;28mself\u001b[39m\u001b[38;5;241m.\u001b[39mlabels[idx]\n\u001b[0;32m     54\u001b[0m     \u001b[38;5;28;01mif\u001b[39;00m \u001b[38;5;28mself\u001b[39m\u001b[38;5;241m.\u001b[39mtransform:\n",
      "File \u001b[1;32mC:\\anaconda\\Lib\\site-packages\\PIL\\Image.py:3442\u001b[0m, in \u001b[0;36mopen\u001b[1;34m(fp, mode, formats)\u001b[0m\n\u001b[0;32m   3439\u001b[0m     fp \u001b[38;5;241m=\u001b[39m io\u001b[38;5;241m.\u001b[39mBytesIO(fp\u001b[38;5;241m.\u001b[39mread())\n\u001b[0;32m   3440\u001b[0m     exclusive_fp \u001b[38;5;241m=\u001b[39m \u001b[38;5;28;01mTrue\u001b[39;00m\n\u001b[1;32m-> 3442\u001b[0m prefix \u001b[38;5;241m=\u001b[39m fp\u001b[38;5;241m.\u001b[39mread(\u001b[38;5;241m16\u001b[39m)\n\u001b[0;32m   3444\u001b[0m preinit()\n\u001b[0;32m   3446\u001b[0m warning_messages: \u001b[38;5;28mlist\u001b[39m[\u001b[38;5;28mstr\u001b[39m] \u001b[38;5;241m=\u001b[39m []\n",
      "\u001b[1;31mKeyboardInterrupt\u001b[0m: "
     ]
    }
   ],
   "source": [
    "# Initialize the model, loss function, and optimizer\n",
    "model = BoneClassifier()\n",
    "import time\n",
    "\n",
    "criterion = nn.BCELoss()  # Binary Cross-Entropy Loss\n",
    "optimizer = optim.Adam(model.parameters(), lr=0.0001)\n",
    "\n",
    "# Training loop\n",
    "num_epochs = 250\n",
    "best_acc = -1\n",
    "best_weights = copy.deepcopy(model.state_dict())\n",
    "loss_curve = []\n",
    "val_loss_curve = []\n",
    "for epoch in range(num_epochs):\n",
    "    model.train(True)\n",
    "    acc = 0.0\n",
    "    batch_loss = 0.0\n",
    "    start_time = time.time()\n",
    "    for i, (inputs, labels) in enumerate(train_loader, 0):\n",
    "        optimizer.zero_grad()\n",
    "        outputs = model(inputs)\n",
    "        loss = criterion(outputs, labels.type(torch.float64))\n",
    "        loss.backward()\n",
    "        optimizer.step()\n",
    "        acc += (outputs.round() == labels).float().mean()\n",
    "        batch_loss += loss.item()\n",
    "\n",
    "    batch_loss /= (i + 1)\n",
    "    loss_curve.append(batch_loss)\n",
    "    acc = acc / (i + 1)\n",
    "\n",
    "    with torch.no_grad():\n",
    "        model.eval()\n",
    "        val_acc = 0\n",
    "        val_loss = 0\n",
    "        for i, (inputs, labels) in enumerate(val_loader, 0):\n",
    "            outputs = model(inputs)\n",
    "            val_loss += criterion(outputs, labels.type(torch.float64)) / BATCH_SIZE\n",
    "            val_acc += (outputs.round() == labels).float().mean()\n",
    "        avg_acc = val_acc / (i + 1)\n",
    "        val_loss /= (i + 1)\n",
    "        val_loss_curve.append(val_loss)\n",
    "        if avg_acc > best_acc:\n",
    "            best_acc = avg_acc\n",
    "            best_weights = copy.deepcopy(model.state_dict())\n",
    "        print(f'Epoch [{epoch + 1}/{num_epochs}], Avg accuracy: {acc * 100:.4f}, Validation accuracy: {100 * avg_acc:.2f}%')\n",
    "    end_time = time.time()\n",
    "    print(f\"Finished in {(end_time - start_time):.4f} seconds\")\n",
    "model.load_state_dict(best_weights)"
   ]
  },
  {
   "cell_type": "code",
   "execution_count": 25,
   "metadata": {
    "colab": {
     "base_uri": "https://localhost:8080/",
     "height": 472
    },
    "id": "AZ2q9I04-K4W",
    "outputId": "48c42de3-235a-4bf9-9a11-b98bacf11611"
   },
   "outputs": [
    {
     "data": {
      "image/png": "[encoded data removed]",
      "text/plain": [
       "<Figure size 640x480 with 1 Axes>"
      ]
     },
     "metadata": {},
     "output_type": "display_data"
    }
   ],
   "source": [
    "import matplotlib.pyplot as plt\n",
    "%matplotlib inline\n",
    "\n",
    "plt.plot(loss_curve, label = 'train loss')\n",
    "#plt.plot(val_loss_curve, label = 'validation loss')\n",
    "plt.xlabel('Epoch')\n",
    "plt.ylabel('Loss')\n",
    "plt.title('Training Loss')\n",
    "plt.show()"
   ]
  },
  {
   "cell_type": "code",
   "execution_count": 27,
   "metadata": {
    "id": "lVKUuifqgu4C"
   },
   "outputs": [],
   "source": [
    "test_dataset = BoneDataset(X_test, y_test, transform = transform)\n",
    "test_loader = DataLoader(test_dataset, batch_size=BATCH_SIZE, shuffle=False, drop_last=True)"
   ]
  },
  {
   "cell_type": "markdown",
   "metadata": {
    "id": "r1b3jeXx9FGX"
   },
   "source": [
    "Настало время проверить точность нейронки на тестовых данных"
   ]
  },
  {
   "cell_type": "code",
   "execution_count": 30,
   "metadata": {
    "colab": {
     "base_uri": "https://localhost:8080/"
    },
    "id": "FI6CW7Dcix_n",
    "outputId": "89ae4958-b8da-40d8-8d4e-16dac197a4c2"
   },
   "outputs": [
    {
     "name": "stdout",
     "output_type": "stream",
     "text": [
      "Test Accuracy: 82.77027130126953\n"
     ]
    }
   ],
   "source": [
    "with torch.no_grad():\n",
    "  model.eval()\n",
    "  acc = 0\n",
    "  for i, (inputs, labels) in enumerate(test_loader, 0):\n",
    "    outputs = model(inputs)\n",
    "    loss = criterion(outputs, labels.type(torch.float64))\n",
    "    acc += (outputs.round() == labels).float().mean()\n",
    "  print(f'Test Accuracy: {acc / (i + 1) * 100}')\n"
   ]
  },
  {
   "cell_type": "code",
   "execution_count": 32,
   "metadata": {
    "colab": {
     "base_uri": "https://localhost:8080/"
    },
    "id": "jwtzgKiTHFu0",
    "outputId": "2bc585d3-0460-4a11-e7b4-d30e5e1cc107"
   },
   "outputs": [
    {
     "name": "stdout",
     "output_type": "stream",
     "text": [
      "Requirement already satisfied: torcheval in c:\\anaconda\\lib\\site-packages (0.0.7)\n",
      "Requirement already satisfied: typing-extensions in c:\\anaconda\\lib\\site-packages (from torcheval) (4.11.0)\n",
      "Note: you may need to restart the kernel to use updated packages.\n",
      "Confusion matrix: \n",
      "tp: tensor(590.) fn: tensor(131.)\n",
      "fp: tensor(124.) tn: tensor(635.)\n",
      "Accuracy: 0.8277027010917664\n",
      "Precision: 0.8263305425643921\n",
      "Recall: 0.8183078765869141\n",
      "f1 score: 0.4111498296260834\n"
     ]
    }
   ],
   "source": [
    "%pip install torcheval\n",
    "from torcheval.metrics import BinaryConfusionMatrix\n",
    "\n",
    "metric = BinaryConfusionMatrix()\n",
    "\n",
    "with torch.no_grad():\n",
    "  model.eval()\n",
    "  acc = 0\n",
    "  cm = None\n",
    "  for i, (inputs, labels) in enumerate(test_loader, 0):\n",
    "    outputs = model(inputs)\n",
    "    metric.update(labels.type(torch.int64), outputs.round().type(torch.int64))\n",
    "print(\"Confusion matrix: \")\n",
    "result = metric.compute()\n",
    "\n",
    "tp, fn = result[0]\n",
    "fp, tn = result[1]\n",
    "\n",
    "print(\"tp:\", tp, \"fn:\", fn)\n",
    "print(\"fp:\", fp, \"tn:\", tn)\n",
    "\n",
    "total = tp + fn + fp + tn\n",
    "\n",
    "precision = tp / (tp + fp)\n",
    "recall = tp / (tp + fn)\n",
    "\n",
    "print(f\"Accuracy: {(tp + tn) / total}\")\n",
    "print(f\"Precision: {precision}\")\n",
    "print(f\"Recall: {recall}\")\n",
    "print(f\"f1 score: {precision * recall / (precision + recall)}\")"
   ]
  },
  {
   "cell_type": "markdown",
   "metadata": {},
   "source": [
    "# Лабораторная №2\n",
    "Добавим квантизацию"
   ]
  },
  {
   "cell_type": "code",
   "execution_count": 34,
   "metadata": {},
   "outputs": [],
   "source": [
    "model_int8 = torch.ao.quantization.quantize_dynamic(\n",
    "    model,  # the original model\n",
    "    {torch.nn.Linear},  # a set of layers to dynamically quantize\n",
    "    dtype=torch.qint8)  # the target dtype for quantized weights"
   ]
  },
  {
   "cell_type": "markdown",
   "metadata": {},
   "source": [
    "Снова проверим точность"
   ]
  },
  {
   "cell_type": "code",
   "execution_count": 39,
   "metadata": {},
   "outputs": [
    {
     "name": "stdout",
     "output_type": "stream",
     "text": [
      "Confusion matrix: \n",
      "tp: tensor(660.) fn: tensor(199.)\n",
      "fp: tensor(54.) tn: tensor(567.)\n",
      "Accuracy: 0.829054057598114\n",
      "Precision: 0.924369752407074\n",
      "Recall: 0.7683352828025818\n",
      "f1 score: 0.4195803999900818\n"
     ]
    }
   ],
   "source": [
    "from torcheval.metrics import BinaryConfusionMatrix\n",
    "\n",
    "metric = BinaryConfusionMatrix()\n",
    "\n",
    "with torch.no_grad():\n",
    "  model.eval()\n",
    "  acc = 0\n",
    "  cm = None\n",
    "  for i, (inputs, labels) in enumerate(test_loader, 0):\n",
    "    outputs = model_int8(inputs)\n",
    "    metric.update(labels.type(torch.int64), outputs.round().type(torch.int64))\n",
    "print(\"Confusion matrix: \")\n",
    "result = metric.compute()\n",
    "\n",
    "tp, fn = result[0]\n",
    "fp, tn = result[1]\n",
    "\n",
    "print(\"tp:\", tp, \"fn:\", fn)\n",
    "print(\"fp:\", fp, \"tn:\", tn)\n",
    "\n",
    "total = tp + fn + fp + tn\n",
    "\n",
    "precision = tp / (tp + fp)\n",
    "recall = tp / (tp + fn)\n",
    "\n",
    "print(f\"Accuracy: {(tp + tn) / total}\")\n",
    "print(f\"Precision: {precision}\")\n",
    "print(f\"Recall: {recall}\")\n",
    "print(f\"f1 score: {precision * recall / (precision + recall)}\")"
   ]
  },
  {
   "cell_type": "markdown",
   "metadata": {},
   "source": [
    "Как видно точность сильно не пострадала"
   ]
  },
  {
   "cell_type": "markdown",
   "metadata": {},
   "source": [
    "# Лабораторная работа №3\n",
    "Экспортируем модель в представление onnx"
   ]
  },
  {
   "cell_type": "code",
   "execution_count": 45,
   "metadata": {},
   "outputs": [
    {
     "name": "stdout",
     "output_type": "stream",
     "text": [
      "[torch.onnx] Obtain model graph for `BoneClassifier([...]` with `torch.export.export`...\n"
     ]
    },
    {
     "name": "stderr",
     "output_type": "stream",
     "text": [
      "E1216 23:12:05.753000 17348 site-packages\\torch\\_guards.py:283] [2/0] Error while creating guard:\n",
      "E1216 23:12:05.753000 17348 site-packages\\torch\\_guards.py:283] [2/0] Name: ''\n",
      "E1216 23:12:05.753000 17348 site-packages\\torch\\_guards.py:283] [2/0]     Source: shape_env\n",
      "E1216 23:12:05.753000 17348 site-packages\\torch\\_guards.py:283] [2/0]     Create Function: SHAPE_ENV\n",
      "E1216 23:12:05.753000 17348 site-packages\\torch\\_guards.py:283] [2/0]     Guard Types: None\n",
      "E1216 23:12:05.753000 17348 site-packages\\torch\\_guards.py:283] [2/0]     Code List: None\n",
      "E1216 23:12:05.753000 17348 site-packages\\torch\\_guards.py:283] [2/0]     Object Weakref: None\n",
      "E1216 23:12:05.753000 17348 site-packages\\torch\\_guards.py:283] [2/0]     Guarded Class Weakref: None\n",
      "E1216 23:12:05.753000 17348 site-packages\\torch\\_guards.py:283] [2/0] Traceback (most recent call last):\n",
      "E1216 23:12:05.753000 17348 site-packages\\torch\\_guards.py:283] [2/0]   File \"C:\\anaconda\\Lib\\site-packages\\torch\\_guards.py\", line 281, in create\n",
      "E1216 23:12:05.753000 17348 site-packages\\torch\\_guards.py:283] [2/0]     return self.create_fn(builder, self)\n",
      "E1216 23:12:05.753000 17348 site-packages\\torch\\_guards.py:283] [2/0]            ^^^^^^^^^^^^^^^^^^^^^^^^^^^^^\n",
      "E1216 23:12:05.753000 17348 site-packages\\torch\\_guards.py:283] [2/0]   File \"C:\\anaconda\\Lib\\site-packages\\torch\\_dynamo\\guards.py\", line 1836, in SHAPE_ENV\n",
      "E1216 23:12:05.753000 17348 site-packages\\torch\\_guards.py:283] [2/0]     guards = output_graph.shape_env.produce_guards(\n",
      "E1216 23:12:05.753000 17348 site-packages\\torch\\_guards.py:283] [2/0]              ^^^^^^^^^^^^^^^^^^^^^^^^^^^^^^^^^^^^^^\n",
      "E1216 23:12:05.753000 17348 site-packages\\torch\\_guards.py:283] [2/0]   File \"C:\\anaconda\\Lib\\site-packages\\torch\\fx\\experimental\\symbolic_shapes.py\", line 4178, in produce_guards\n",
      "E1216 23:12:05.753000 17348 site-packages\\torch\\_guards.py:283] [2/0]     raise ConstraintViolationError(\n",
      "E1216 23:12:05.753000 17348 site-packages\\torch\\_guards.py:283] [2/0] torch.fx.experimental.symbolic_shapes.ConstraintViolationError: Constraints violated (batch_size)! For more information, run with TORCH_LOGS=\"+dynamic\".\n",
      "E1216 23:12:05.753000 17348 site-packages\\torch\\_guards.py:283] [2/0]   - Not all values of batch_size = L['x'].size()[0] in the specified range are valid because batch_size was inferred to be a constant (40).\n",
      "E1216 23:12:05.755000 17348 site-packages\\torch\\_guards.py:285] [2/0] Created at:\n",
      "E1216 23:12:05.755000 17348 site-packages\\torch\\_guards.py:285] [2/0]   File \"C:\\anaconda\\Lib\\site-packages\\torch\\_dynamo\\convert_frame.py\", line 615, in transform\n",
      "E1216 23:12:05.755000 17348 site-packages\\torch\\_guards.py:285] [2/0]     tracer = InstructionTranslator(\n",
      "E1216 23:12:05.755000 17348 site-packages\\torch\\_guards.py:285] [2/0]   File \"C:\\anaconda\\Lib\\site-packages\\torch\\_dynamo\\symbolic_convert.py\", line 2670, in __init__\n",
      "E1216 23:12:05.755000 17348 site-packages\\torch\\_guards.py:285] [2/0]     output=OutputGraph(\n",
      "E1216 23:12:05.755000 17348 site-packages\\torch\\_guards.py:285] [2/0]   File \"C:\\anaconda\\Lib\\site-packages\\torch\\_dynamo\\output_graph.py\", line 317, in __init__\n",
      "E1216 23:12:05.755000 17348 site-packages\\torch\\_guards.py:285] [2/0]     self.init_ambient_guards()\n",
      "E1216 23:12:05.755000 17348 site-packages\\torch\\_guards.py:285] [2/0]   File \"C:\\anaconda\\Lib\\site-packages\\torch\\_dynamo\\output_graph.py\", line 463, in init_ambient_guards\n",
      "E1216 23:12:05.755000 17348 site-packages\\torch\\_guards.py:285] [2/0]     self.guards.add(ShapeEnvSource().make_guard(GuardBuilder.SHAPE_ENV))\n"
     ]
    },
    {
     "name": "stdout",
     "output_type": "stream",
     "text": [
      "[torch.onnx] Obtain model graph for `BoneClassifier([...]` with `torch.export.export`... ✅\n",
      "[torch.onnx] Translate the graph into ONNX...\n",
      "[torch.onnx] Translate the graph into ONNX... ✅\n"
     ]
    },
    {
     "ename": "OSError",
     "evalue": "[Errno 22] Invalid argument: '.\\\\my_model.onnx.data'",
     "output_type": "error",
     "traceback": [
      "\u001b[1;31m---------------------------------------------------------------------------\u001b[0m",
      "\u001b[1;31mOSError\u001b[0m                                   Traceback (most recent call last)",
      "Cell \u001b[1;32mIn[45], line 3\u001b[0m\n\u001b[0;32m      1\u001b[0m \u001b[38;5;66;03m#%pip install onnxscript\u001b[39;00m\n\u001b[0;32m      2\u001b[0m sample \u001b[38;5;241m=\u001b[39m [data \u001b[38;5;28;01mfor\u001b[39;00m (data, _) \u001b[38;5;129;01min\u001b[39;00m train_loader][\u001b[38;5;241m0\u001b[39m]\n\u001b[1;32m----> 3\u001b[0m torch\u001b[38;5;241m.\u001b[39monnx\u001b[38;5;241m.\u001b[39mexport(model,               \u001b[38;5;66;03m# model being run\u001b[39;00m\n\u001b[0;32m      4\u001b[0m                   sample,                         \u001b[38;5;66;03m# model input (or a tuple for multiple inputs)\u001b[39;00m\n\u001b[0;32m      5\u001b[0m                   \u001b[38;5;124m\"\u001b[39m\u001b[38;5;124mmy_model.onnx\u001b[39m\u001b[38;5;124m\"\u001b[39m,   \u001b[38;5;66;03m# where to save the model (can be a file or file-like object)\u001b[39;00m\n\u001b[0;32m      6\u001b[0m                   export_params\u001b[38;5;241m=\u001b[39m\u001b[38;5;28;01mTrue\u001b[39;00m,        \u001b[38;5;66;03m# store the trained parameter weights inside the model file\u001b[39;00m\n\u001b[0;32m      7\u001b[0m                   opset_version\u001b[38;5;241m=\u001b[39m\u001b[38;5;241m10\u001b[39m,          \u001b[38;5;66;03m# the ONNX version to export the model to\u001b[39;00m\n\u001b[0;32m      8\u001b[0m                   do_constant_folding\u001b[38;5;241m=\u001b[39m\u001b[38;5;28;01mTrue\u001b[39;00m,  \u001b[38;5;66;03m# whether to execute constant folding for optimization\u001b[39;00m\n\u001b[0;32m      9\u001b[0m                   input_names \u001b[38;5;241m=\u001b[39m [\u001b[38;5;124m'\u001b[39m\u001b[38;5;124minput\u001b[39m\u001b[38;5;124m'\u001b[39m],   \u001b[38;5;66;03m# the model's input names\u001b[39;00m\n\u001b[0;32m     10\u001b[0m                   output_names \u001b[38;5;241m=\u001b[39m [\u001b[38;5;124m'\u001b[39m\u001b[38;5;124moutput\u001b[39m\u001b[38;5;124m'\u001b[39m], \u001b[38;5;66;03m# the model's output names\u001b[39;00m\n\u001b[0;32m     11\u001b[0m                   dynamic_axes\u001b[38;5;241m=\u001b[39m{\u001b[38;5;124m'\u001b[39m\u001b[38;5;124minput\u001b[39m\u001b[38;5;124m'\u001b[39m : {\u001b[38;5;241m0\u001b[39m : \u001b[38;5;124m'\u001b[39m\u001b[38;5;124mbatch_size\u001b[39m\u001b[38;5;124m'\u001b[39m},    \u001b[38;5;66;03m# variable length axes\u001b[39;00m\n\u001b[0;32m     12\u001b[0m                                 \u001b[38;5;124m'\u001b[39m\u001b[38;5;124moutput\u001b[39m\u001b[38;5;124m'\u001b[39m : {\u001b[38;5;241m0\u001b[39m : \u001b[38;5;124m'\u001b[39m\u001b[38;5;124mbatch_size\u001b[39m\u001b[38;5;124m'\u001b[39m}},\n\u001b[0;32m     13\u001b[0m                  dynamo\u001b[38;5;241m=\u001b[39m\u001b[38;5;28;01mTrue\u001b[39;00m)\n",
      "File \u001b[1;32mC:\\anaconda\\Lib\\site-packages\\torch\\onnx\\__init__.py:345\u001b[0m, in \u001b[0;36mexport\u001b[1;34m(model, args, f, kwargs, export_params, verbose, input_names, output_names, opset_version, dynamic_axes, keep_initializers_as_inputs, dynamo, external_data, dynamic_shapes, report, verify, profile, dump_exported_program, artifacts_dir, fallback, training, operator_export_type, do_constant_folding, custom_opsets, export_modules_as_functions, autograd_inlining, **_)\u001b[0m\n\u001b[0;32m    343\u001b[0m     \u001b[38;5;28;01mif\u001b[39;00m \u001b[38;5;28misinstance\u001b[39m(args, torch\u001b[38;5;241m.\u001b[39mTensor):\n\u001b[0;32m    344\u001b[0m         args \u001b[38;5;241m=\u001b[39m (args,)\n\u001b[1;32m--> 345\u001b[0m     \u001b[38;5;28;01mreturn\u001b[39;00m exporter\u001b[38;5;241m.\u001b[39mexport_compat(\n\u001b[0;32m    346\u001b[0m         model,\n\u001b[0;32m    347\u001b[0m         args,\n\u001b[0;32m    348\u001b[0m         f,\n\u001b[0;32m    349\u001b[0m         kwargs\u001b[38;5;241m=\u001b[39mkwargs,\n\u001b[0;32m    350\u001b[0m         export_params\u001b[38;5;241m=\u001b[39mexport_params,\n\u001b[0;32m    351\u001b[0m         verbose\u001b[38;5;241m=\u001b[39mverbose,\n\u001b[0;32m    352\u001b[0m         input_names\u001b[38;5;241m=\u001b[39minput_names,\n\u001b[0;32m    353\u001b[0m         output_names\u001b[38;5;241m=\u001b[39moutput_names,\n\u001b[0;32m    354\u001b[0m         opset_version\u001b[38;5;241m=\u001b[39mopset_version,\n\u001b[0;32m    355\u001b[0m         dynamic_axes\u001b[38;5;241m=\u001b[39mdynamic_axes,\n\u001b[0;32m    356\u001b[0m         keep_initializers_as_inputs\u001b[38;5;241m=\u001b[39mkeep_initializers_as_inputs,\n\u001b[0;32m    357\u001b[0m         external_data\u001b[38;5;241m=\u001b[39mexternal_data,\n\u001b[0;32m    358\u001b[0m         dynamic_shapes\u001b[38;5;241m=\u001b[39mdynamic_shapes,\n\u001b[0;32m    359\u001b[0m         report\u001b[38;5;241m=\u001b[39mreport,\n\u001b[0;32m    360\u001b[0m         verify\u001b[38;5;241m=\u001b[39mverify,\n\u001b[0;32m    361\u001b[0m         profile\u001b[38;5;241m=\u001b[39mprofile,\n\u001b[0;32m    362\u001b[0m         dump_exported_program\u001b[38;5;241m=\u001b[39mdump_exported_program,\n\u001b[0;32m    363\u001b[0m         artifacts_dir\u001b[38;5;241m=\u001b[39martifacts_dir,\n\u001b[0;32m    364\u001b[0m         fallback\u001b[38;5;241m=\u001b[39mfallback,\n\u001b[0;32m    365\u001b[0m     )\n\u001b[0;32m    366\u001b[0m \u001b[38;5;28;01melse\u001b[39;00m:\n\u001b[0;32m    367\u001b[0m     \u001b[38;5;28;01mfrom\u001b[39;00m \u001b[38;5;21;01mtorch\u001b[39;00m\u001b[38;5;21;01m.\u001b[39;00m\u001b[38;5;21;01monnx\u001b[39;00m\u001b[38;5;21;01m.\u001b[39;00m\u001b[38;5;21;01mutils\u001b[39;00m \u001b[38;5;28;01mimport\u001b[39;00m export\n",
      "File \u001b[1;32mC:\\anaconda\\Lib\\site-packages\\torch\\onnx\\_internal\\exporter\\_compat.py:209\u001b[0m, in \u001b[0;36mexport_compat\u001b[1;34m(model, args, f, kwargs, export_params, verbose, input_names, output_names, opset_version, dynamic_axes, dynamic_shapes, keep_initializers_as_inputs, external_data, report, verify, profile, dump_exported_program, artifacts_dir, fallback, **_)\u001b[0m\n\u001b[0;32m    206\u001b[0m onnx_program\u001b[38;5;241m.\u001b[39mmodel \u001b[38;5;241m=\u001b[39m onnxscript_apis\u001b[38;5;241m.\u001b[39moptimize(onnx_program\u001b[38;5;241m.\u001b[39mmodel)\n\u001b[0;32m    208\u001b[0m \u001b[38;5;28;01mif\u001b[39;00m f \u001b[38;5;129;01mis\u001b[39;00m \u001b[38;5;129;01mnot\u001b[39;00m \u001b[38;5;28;01mNone\u001b[39;00m:\n\u001b[1;32m--> 209\u001b[0m     onnx_program\u001b[38;5;241m.\u001b[39msave(\n\u001b[0;32m    210\u001b[0m         f,\n\u001b[0;32m    211\u001b[0m         include_initializers\u001b[38;5;241m=\u001b[39mexport_params,\n\u001b[0;32m    212\u001b[0m         keep_initializers_as_inputs\u001b[38;5;241m=\u001b[39mkeep_initializers_as_inputs,\n\u001b[0;32m    213\u001b[0m         external_data\u001b[38;5;241m=\u001b[39mexternal_data,\n\u001b[0;32m    214\u001b[0m     )\n\u001b[0;32m    216\u001b[0m \u001b[38;5;28;01mreturn\u001b[39;00m onnx_program\n",
      "File \u001b[1;32mC:\\anaconda\\Lib\\site-packages\\torch\\onnx\\_internal\\exporter\\_onnx_program.py:172\u001b[0m, in \u001b[0;36mONNXProgram.save\u001b[1;34m(self, destination, include_initializers, keep_initializers_as_inputs, external_data, **_)\u001b[0m\n\u001b[0;32m    167\u001b[0m \u001b[38;5;66;03m# Save the model to disk\u001b[39;00m\n\u001b[0;32m    168\u001b[0m \u001b[38;5;28;01mif\u001b[39;00m (\n\u001b[0;32m    169\u001b[0m     external_data\n\u001b[0;32m    170\u001b[0m     \u001b[38;5;129;01mor\u001b[39;00m _count_initializer_size(\u001b[38;5;28mself\u001b[39m\u001b[38;5;241m.\u001b[39mmodel\u001b[38;5;241m.\u001b[39mgraph) \u001b[38;5;241m>\u001b[39m _LARGE_MODEL_THRESHOLD\n\u001b[0;32m    171\u001b[0m ):\n\u001b[1;32m--> 172\u001b[0m     onnxscript_apis\u001b[38;5;241m.\u001b[39msave_model_with_external_data(\u001b[38;5;28mself\u001b[39m\u001b[38;5;241m.\u001b[39mmodel, destination)\n\u001b[0;32m    173\u001b[0m \u001b[38;5;28;01melse\u001b[39;00m:\n\u001b[0;32m    174\u001b[0m     ir\u001b[38;5;241m.\u001b[39msave(\u001b[38;5;28mself\u001b[39m\u001b[38;5;241m.\u001b[39mmodel, destination)\n",
      "File \u001b[1;32mC:\\anaconda\\Lib\\site-packages\\onnxscript\\_framework_apis\\torch_2_5.py:83\u001b[0m, in \u001b[0;36msave_model_with_external_data\u001b[1;34m(model, model_path)\u001b[0m\n\u001b[0;32m     80\u001b[0m base_dir \u001b[38;5;241m=\u001b[39m destination_path\u001b[38;5;241m.\u001b[39mparent\n\u001b[0;32m     81\u001b[0m data_path \u001b[38;5;241m=\u001b[39m \u001b[38;5;124mf\u001b[39m\u001b[38;5;124m\"\u001b[39m\u001b[38;5;132;01m{\u001b[39;00mdestination_path\u001b[38;5;241m.\u001b[39mname\u001b[38;5;132;01m}\u001b[39;00m\u001b[38;5;124m.data\u001b[39m\u001b[38;5;124m\"\u001b[39m\n\u001b[1;32m---> 83\u001b[0m external_tensors \u001b[38;5;241m=\u001b[39m _external_data\u001b[38;5;241m.\u001b[39mconvert_tensors_to_external(\n\u001b[0;32m     84\u001b[0m     tensors,  \u001b[38;5;66;03m# type: ignore[arg-type]\u001b[39;00m\n\u001b[0;32m     85\u001b[0m     base_dir,\n\u001b[0;32m     86\u001b[0m     data_path,\n\u001b[0;32m     87\u001b[0m )\n\u001b[0;32m     89\u001b[0m \u001b[38;5;66;03m# Replace the initializer values with external tensors and save the model\u001b[39;00m\n\u001b[0;32m     90\u001b[0m \u001b[38;5;28;01mfor\u001b[39;00m initializer, external_tensor \u001b[38;5;129;01min\u001b[39;00m \u001b[38;5;28mzip\u001b[39m(initializer_values, external_tensors):\n",
      "File \u001b[1;32mC:\\anaconda\\Lib\\site-packages\\onnxscript\\ir\\_external_data.py:267\u001b[0m, in \u001b[0;36mconvert_tensors_to_external\u001b[1;34m(tensors, base_path, relative_path, load_external_to_memory)\u001b[0m\n\u001b[0;32m    265\u001b[0m     external_data_info\u001b[38;5;241m.\u001b[39mappend((tensor, tensor_info))\n\u001b[0;32m    266\u001b[0m     current_offset \u001b[38;5;241m=\u001b[39m tensor_info\u001b[38;5;241m.\u001b[39moffset \u001b[38;5;241m+\u001b[39m tensor_info\u001b[38;5;241m.\u001b[39mlength\n\u001b[1;32m--> 267\u001b[0m _save_external_data(external_data_info, path)\n\u001b[0;32m    269\u001b[0m \u001b[38;5;66;03m# Convert initializers to ExternalTensors\u001b[39;00m\n\u001b[0;32m    270\u001b[0m external_tensors \u001b[38;5;241m=\u001b[39m _convert_as_external_tensors(\n\u001b[0;32m    271\u001b[0m     external_data_info, base_path, relative_path\n\u001b[0;32m    272\u001b[0m )\n",
      "File \u001b[1;32mC:\\anaconda\\Lib\\site-packages\\onnxscript\\ir\\_external_data.py:164\u001b[0m, in \u001b[0;36m_save_external_data\u001b[1;34m(external_data_info, file_path)\u001b[0m\n\u001b[0;32m    154\u001b[0m \u001b[38;5;28;01mdef\u001b[39;00m \u001b[38;5;21m_save_external_data\u001b[39m(\n\u001b[0;32m    155\u001b[0m     external_data_info: \u001b[38;5;28mlist\u001b[39m[\u001b[38;5;28mtuple\u001b[39m[_protocols\u001b[38;5;241m.\u001b[39mTensorProtocol, _ExternalDataInfo]],\n\u001b[0;32m    156\u001b[0m     file_path: \u001b[38;5;28mstr\u001b[39m \u001b[38;5;241m|\u001b[39m os\u001b[38;5;241m.\u001b[39mPathLike,\n\u001b[0;32m    157\u001b[0m ) \u001b[38;5;241m-\u001b[39m\u001b[38;5;241m>\u001b[39m \u001b[38;5;28;01mNone\u001b[39;00m:\n\u001b[0;32m    158\u001b[0m \u001b[38;5;250m    \u001b[39m\u001b[38;5;124;03m\"\"\"Write tensor data to an external file according to information stored in ExternalDataInfo objects.\u001b[39;00m\n\u001b[0;32m    159\u001b[0m \n\u001b[0;32m    160\u001b[0m \u001b[38;5;124;03m    Args:\u001b[39;00m\n\u001b[0;32m    161\u001b[0m \u001b[38;5;124;03m        external_data_info: A collection of external data information stored for each tensor to be written as external data.\u001b[39;00m\n\u001b[0;32m    162\u001b[0m \u001b[38;5;124;03m        file_path: Location to which external data is to be stored.\u001b[39;00m\n\u001b[0;32m    163\u001b[0m \u001b[38;5;124;03m    \"\"\"\u001b[39;00m\n\u001b[1;32m--> 164\u001b[0m     \u001b[38;5;28;01mwith\u001b[39;00m \u001b[38;5;28mopen\u001b[39m(file_path, \u001b[38;5;124m\"\u001b[39m\u001b[38;5;124mwb\u001b[39m\u001b[38;5;124m\"\u001b[39m) \u001b[38;5;28;01mas\u001b[39;00m data_file:\n\u001b[0;32m    165\u001b[0m         \u001b[38;5;28;01mfor\u001b[39;00m tensor, tensor_info \u001b[38;5;129;01min\u001b[39;00m external_data_info:\n\u001b[0;32m    166\u001b[0m             current_offset \u001b[38;5;241m=\u001b[39m tensor_info\u001b[38;5;241m.\u001b[39moffset\n",
      "\u001b[1;31mOSError\u001b[0m: [Errno 22] Invalid argument: '.\\\\my_model.onnx.data'"
     ]
    }
   ],
   "source": [
    "#%pip install onnxscript\n",
    "sample = [data for (data, _) in train_loader][0]\n",
    "torch.onnx.export(model,               # model being run\n",
    "                  sample,                         # model input (or a tuple for multiple inputs)\n",
    "                  \"my_model.onnx\",   # where to save the model (can be a file or file-like object)\n",
    "                  export_params=True,        # store the trained parameter weights inside the model file\n",
    "                  opset_version=10,          # the ONNX version to export the model to\n",
    "                  do_constant_folding=True,  # whether to execute constant folding for optimization\n",
    "                  input_names = ['input'],   # the model's input names\n",
    "                  output_names = ['output'], # the model's output names\n",
    "                  dynamic_axes={'input' : {0 : 'batch_size'},    # variable length axes\n",
    "                                'output' : {0 : 'batch_size'}},\n",
    "                 dynamo=True)"
   ]
  },
  {
   "cell_type": "code",
   "execution_count": 47,
   "metadata": {},
   "outputs": [],
   "source": [
    "import onnx\n",
    "onnx_model = onnx.load(\"my_model.onnx\")\n",
    "onnx.checker.check_model(onnx_model)"
   ]
  },
  {
   "cell_type": "markdown",
   "metadata": {},
   "source": [
    "Проверим точность модели"
   ]
  },
  {
   "cell_type": "code",
   "execution_count": 51,
   "metadata": {},
   "outputs": [
    {
     "name": "stdout",
     "output_type": "stream",
     "text": [
      "Inference finished in 2.8494\n",
      "Confusion matrix: \n",
      "tp: tensor(409.) fn: tensor(51.)\n",
      "fp: tensor(305.) tn: tensor(715.)\n",
      "Accuracy: 0.7594594359397888\n",
      "Precision: 0.5728291273117065\n",
      "Recall: 0.8891304135322571\n",
      "f1 score: 0.34838157892227173\n"
     ]
    }
   ],
   "source": [
    "import onnxruntime\n",
    "\n",
    "ort_session = onnxruntime.InferenceSession(\"my_model.onnx\", providers=['CPUExecutionProvider'])\n",
    "\n",
    "metric = BinaryConfusionMatrix()\n",
    "start_time = time.time()\n",
    "\n",
    "for (inputs, labels) in test_loader:\n",
    "    onnxruntime_outputs = ort_session.run(None, {'input': inputs.numpy()})\n",
    "    outputs = torch.FloatTensor(np.array(onnxruntime_outputs)).round().type(torch.float64)[0]\n",
    "    metric.update(labels.type(torch.int64), outputs.round().type(torch.int64))\n",
    "    end_time = time.time()\n",
    "print(f\"Inference finished in {(end_time - start_time):.4f}\")\n",
    "print(\"Confusion matrix: \")\n",
    "result = metric.compute()\n",
    "\n",
    "tp, fn = result[0]\n",
    "fp, tn = result[1]\n",
    "\n",
    "print(\"tp:\", tp, \"fn:\", fn)\n",
    "print(\"fp:\", fp, \"tn:\", tn)\n",
    "\n",
    "total = tp + fn + fp + tn\n",
    "\n",
    "precision = tp / (tp + fp)\n",
    "recall = tp / (tp + fn)\n",
    "\n",
    "print(f\"Accuracy: {(tp + tn) / total}\")\n",
    "print(f\"Precision: {precision}\")\n",
    "print(f\"Recall: {recall}\")\n",
    "print(f\"f1 score: {precision * recall / (precision + recall)}\")"
   ]
  },
  {
   "cell_type": "code",
   "execution_count": null,
   "metadata": {},
   "outputs": [],
   "source": []
  }
 ],
 "metadata": {
  "accelerator": "GPU",
  "colab": {
   "gpuType": "T4",
   "provenance": []
  },
  "kernelspec": {
   "display_name": "Python [conda env:base] *",
   "language": "python",
   "name": "conda-base-py"
  },
  "language_info": {
   "codemirror_mode": {
    "name": "ipython",
    "version": 3
   },
   "file_extension": ".py",
   "mimetype": "text/x-python",
   "name": "python",
   "nbconvert_exporter": "python",
   "pygments_lexer": "ipython3",
   "version": "3.12.7"
  }
 },
 "nbformat": 4,
 "nbformat_minor": 4
}
